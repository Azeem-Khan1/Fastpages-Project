{
 "cells": [
  {
   "attachments": {},
   "cell_type": "markdown",
   "metadata": {},
   "source": [
    "# Student Teaching Lesson 3.12 & 3.13\n",
    "> Student Teaching Notes and Homework (3.12 - 3.13)\n",
    "\n",
    "- layout: default\n",
    "- comments: true\n",
    "- toc: true\n",
    "- permalink: /lesson12-13\n",
    "- categories: [Student Teaching Portfolio]"
   ]
  },
  {
   "attachments": {},
   "cell_type": "markdown",
   "metadata": {},
   "source": [
    "## Calling Procedures\n",
    "\n",
    "Slide 1:\n",
    "- A <u>procedure</u> is a named group of programming instructions that may have parameters and return values.\n",
    "- Procedures are referred to by different names, such as <u>method</u> or <u>function</u>, depending on the programing language.\n",
    "- Parameters are input values of a procedure. <u>Arguments</u> specify the values of the parameters when procedure is called.\n",
    "- A procedure call interrupts the <u>sequential</u> execution of statements causing the program to execute the statements within the procedure before continuing. The last statement in the procedure (or a return statement) has executed, flow or control is returned to the point immediately following where the procedure was <u>called</u>.\n",
    "\n",
    "Slide 2:\n",
    "- When calling procedures, it's important to take notice to whether it returns data, or a block of <u>statements</u>.\n",
    "- If the procedure just returns a block of statements, you call the procedure by referring to the procedure name, and <u>inputting</u> the arguments.\n",
    "- If the procedure returns some sort of data like a <u>Boolean</u> or <u>value</u>, then you will assign that value to a variable\n",
    "\n",
    "Slide 3:\n",
    "\n",
    "- Assume the Temperature outside is Fahrenheit. \n",
    "- The procedure <u>convertFahrenheit</u> is intended to convert from Fahrenheit to Celsius.\n",
    "- Convert the following <u>psuedo</u> code to python\n",
    "\n"
   ]
  },
  {
   "cell_type": "code",
   "execution_count": 7,
   "metadata": {},
   "outputs": [
    {
     "name": "stdout",
     "output_type": "stream",
     "text": [
      "-36\n"
     ]
    }
   ],
   "source": [
    "outsideTemp = int(input(\"What is the temperature outside in Fahrenheit? (Don't include units)\"))\n",
    "\n",
    "def convertFahrenheit(temperature):\n",
    "    celsius = temperature - 32\n",
    "    celsius = celsius * (5/9)\n",
    "    celsius = round(celsius)\n",
    "    print(celsius)\n",
    "\n",
    "convertFahrenheit(outsideTemp)"
   ]
  },
  {
   "attachments": {},
   "cell_type": "markdown",
   "metadata": {},
   "source": [
    "## Developing Procedures\n",
    "\n",
    "Slide 8: \n",
    "\n",
    "Picking a <u>descriptive</u> name is important in case you revisit the code later on (separate words with capitals)\n",
    "There are 2 different types of procedures- ones that return a value and those that simply execute a block of statements\n",
    "Steps of developing procedure: picking a useful name, thinking of parameters (what data does the procedure need to know), making a flowchart or writing procedure in pseudocode, and actually developing the procedure.\n",
    "\n",
    "Slide 9: \n",
    "\n",
    "In this example, a teacher is writing a program that will replace the grade on a previous quiz if the new grade is better than the previous.\n",
    "\n",
    "- What would be a good name for this procedure?\n",
    "- What parameters do we need for this procedure?\n",
    "- Try writing this procedure out in python based on the given pseudocode\n",
    "\n"
   ]
  },
  {
   "cell_type": "code",
   "execution_count": 19,
   "metadata": {},
   "outputs": [
    {
     "name": "stdout",
     "output_type": "stream",
     "text": [
      "Your new grade on the quiz is 83%\n"
     ]
    }
   ],
   "source": [
    "currentPoints = int(input(\"How many points did you earn on the retake? (Positive integer\"))\n",
    "quizGrade = int(input(\"How many points did you earn previously for the quiz? (Positive integer)\"))\n",
    "quizTotal = int(input(\"How many points was the quiz out of? (Positive integer\"))\n",
    "\n",
    "def quizReplace(currentPoints, quizGrade, quizTotal):\n",
    "    quizGrade = (quizGrade/quizTotal) * 100\n",
    "    currentGrade = currentPoints / quizTotal\n",
    "    currentGrade = currentGrade * 100\n",
    "    if (currentGrade > quizGrade):\n",
    "        quizGrade = currentGrade\n",
    "    return quizGrade\n",
    "\n",
    "print(\"Your new grade on the quiz is \" + str(int(quizReplace(currentPoints, quizGrade, quizTotal))) + \"%\")\n",
    "\n",
    "# inputted: currentPoints = 20\n",
    "#           quizGrade = 60\n",
    "#           quizTotal = 25\n",
    "\n"
   ]
  },
  {
   "attachments": {},
   "cell_type": "markdown",
   "metadata": {},
   "source": [
    "### Practice Problem #1\n",
    "\n",
    "To move the robot 180 degrees in place, these are the commands needed\n",
    "\n",
    "PROCEDURE rotate180() <br>\n",
    "ROTATE_RIGHT() <br>\n",
    "ROTATE_RIGHT() <br>\n",
    "\n",
    "### Practice Problem #2\n",
    "\n",
    "PROCEDURE aroundBlock() <br>\n",
    "ROTATE_LEFT() <br>\n",
    "MOVE_FORWARD() <br>\n",
    "ROTATE_RIGHT() <br>\n",
    "MOVE_FORWARD() <br>\n",
    "MOVE_FORWARD() <br>\n",
    "ROTATE_RIGHT() <br>\n",
    "MOVE_FORWARD() <br>\n",
    "ROTATE_LEFT() <br>"
   ]
  },
  {
   "attachments": {},
   "cell_type": "markdown",
   "metadata": {},
   "source": [
    "## Procedural Abstraction\n",
    "\n",
    "- One type of abstraction is <u>procedural</u> abstraction which provides a name for a process and allows a procedure to be used only knowing what it does and not how it does it\n",
    "- This is very helpful in managing <u>complexity</u> in a program\n",
    "- Subdivision of a program into separate subprograms is called <u>modularity</u>\n",
    "- A procedural abstraction may <u>extract</u> shared features to generalize functionality instead of duplicating code. This allows for program reuse, which helps manage complexity\n",
    "- When a pre-written procedure is called, you don’t necessarily need to know the details of this, just what it does and how to call it\n",
    "- Simply, procedural abstraction is naming and calling a <u>prewritten</u> procedure\n",
    "- Making sure to include the right arguments so the <u>procedure</u> can do what its supposed to do is crucial"
   ]
  },
  {
   "cell_type": "markdown",
   "metadata": {},
   "source": [
    "## Complexity Example\n",
    "\n",
    "One of the biggest advantages of procedural abstraction is managing complexity.\n",
    "\n",
    "Think about the process of simplifying the code?\n",
    "What do you think the advantage of the code segment on the left is?\n",
    "\n",
    "|Code Segment 1|Code Segment 2|\n",
    "|--------------|--------------|\n",
    "|ROTATE_LEFT()|detourLeft()|\n",
    "MOVE_FORWARD()|turnCorner()| \n",
    "ROTATE_RIGHT  |MOVE_FORWARD()| \n",
    "MOVE_FORWARD()|MOVE_FORWARD()|\n",
    "MOVE_FORWARD()\n",
    "ROTATE_RIGHT()\n",
    "MOVE_FORWARD()\n",
    "ROTATE_LEFT()\n",
    "MOVE_FORWARD()\n",
    "ROTATE_LEFT()\n",
    "MOVE_FORWARD()\n",
    "MOVE_FORWARD\n",
    "MOVE_FORWARD()"
   ]
  },
  {
   "attachments": {},
   "cell_type": "markdown",
   "metadata": {},
   "source": [
    "## Hacks\n",
    "\n",
    "- Write a python procedure about something which can help you in school, for example the teacher’s function we spoke about earlier.\n",
    "- Points will be awarded based on creativity and functionality\n",
    "- 0.1 points will be deducted for late submissions\n",
    "- Submit the notes with all blanks filled in (scored out of 0.5 points) and the python procedure (scored out of 0.5 points) by Monday 12/12 at 11:59 PM.\n"
   ]
  },
  {
   "cell_type": "code",
   "execution_count": 29,
   "metadata": {},
   "outputs": [
    {
     "name": "stdout",
     "output_type": "stream",
     "text": [
      "Your new score is 96%\n",
      "That's a(n) A!\n"
     ]
    }
   ],
   "source": [
    "\n",
    "# This procedure calculates a curved grade based on the highest score in your class.\n",
    "# It also tells you your new score as a percentage and a letter grade.\n",
    "\n",
    "# Calculates how your grade is curved\n",
    "# (assuming the highest score out of the class is set as the new total # of points)\n",
    "def curveCalculator(score, highScore):\n",
    "    myPercent = (score / highScore) * 100\n",
    "    # error-proofing the procedure\n",
    "    if (score < 0) or (highScore < 0):\n",
    "        print(\"Positive integers only!\")\n",
    "    elif (score > highScore):\n",
    "        print(\"Your score cannot be higher than the highest score in the class.\")\n",
    "    # Final goal\n",
    "    else:\n",
    "        return myPercent\n",
    "\n",
    "# Calculates your letter grade after the curve\n",
    "def letterGradeCalculator(percent):\n",
    "    if (percent < 60):\n",
    "        return \"F\"\n",
    "    elif (percent >= 60) and (percent < 70):\n",
    "        return \"D\"\n",
    "    elif (percent >= 70) and (percent < 80):\n",
    "        return \"C\"\n",
    "    elif (percent >= 80) and (percent < 90):\n",
    "        return \"B\"\n",
    "    elif (percent >= 90) and (percent < 100):\n",
    "        return \"A\"\n",
    "    else:\n",
    "        return \"A+\"\n",
    "    \n",
    "# Takes user inputs for their score and the class's highest score and stores as variables\n",
    "score = int(input(\"Enter how many points you scored.\"))\n",
    "highScore = int(input(\"Enter the highest number of points that someone in your class scored.\"))\n",
    "\n",
    "percent = curveCalculator(score, highScore)\n",
    "\n",
    "\n",
    "if type(percent) == float: # checks if percent is a number (invalid inputs will not meet this condition)\n",
    "    Grade = letterGradeCalculator(percent)\n",
    "    print(\"Your new score is \" + str(round(percent)) + \"%\")\n",
    "    print(\"That's a(n) \" + str(Grade) + \"!\")\n",
    "else:\n",
    "    print(\"Try again with valid numbers.\")\n",
    "\n",
    "# For the outputs shown below, I inputted the following:\n",
    "# score = 46\n",
    "# highScore = 48\n"
   ]
  }
 ],
 "metadata": {
  "kernelspec": {
   "display_name": "base",
   "language": "python",
   "name": "python3"
  },
  "language_info": {
   "codemirror_mode": {
    "name": "ipython",
    "version": 3
   },
   "file_extension": ".py",
   "mimetype": "text/x-python",
   "name": "python",
   "nbconvert_exporter": "python",
   "pygments_lexer": "ipython3",
   "version": "3.9.12"
  },
  "orig_nbformat": 4,
  "vscode": {
   "interpreter": {
    "hash": "ae7fc39f2ab8b5e6c06b0790456dedf53b90368befc1590efd56e212a30b3916"
   }
  }
 },
 "nbformat": 4,
 "nbformat_minor": 2
}
