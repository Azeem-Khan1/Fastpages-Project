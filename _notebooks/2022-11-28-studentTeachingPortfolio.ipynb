{
 "cells": [
  {
   "cell_type": "markdown",
   "metadata": {},
   "source": [
    "# Student Teaching Portfolio\n",
    "> Student Teaching Notes and Homework (weeks 14-17)\n",
    "\n",
    "- layout: default\n",
    "- comments: true\n",
    "- toc: true\n",
    "- permalink: /week14/studentTeachingPortfolio\n",
    "- categories: [week 14]"
   ]
  },
  {
   "cell_type": "markdown",
   "metadata": {},
   "source": [
    "# 3.1 & 3.2\n",
    "## Variables\n",
    "- Variables organize data by labeling it with a descriptive name\n",
    "    - contains a name, value, and type\n",
    "        - NAMING:\n",
    "            - use general terms\n",
    "            - keep it concise\n",
    "            - use consistent notation (caps, etc...)\n",
    "            - don't make it too vague\n",
    "            - DON'T USE SPACES\n",
    "        - TYPES:\n",
    "            - Integer - a number\n",
    "            - Text/string - a word or string of characters\n",
    "            - Boolean - data that determines if something is true or false\n",
    "        - A list of data can be stored as a variable\n",
    "            - more organized\n",
    "            - can be indexed\n",
    "\n",
    "### Assignments\n",
    "- Operators that allows a program to change the value represented by a variable\n",
    "- Used to assign values to variables\n",
    "- =\n",
    "    - Assigns value of the right side to the left side\n",
    "    - a=b\n",
    "        - Outcome: b\n",
    "- +=\n",
    "    - Add right side operand with left side operand and then assign to left operand\n",
    "    - a+=b\n",
    "        - Outcome: a+b\n",
    "- -=\n",
    "    - Subtract right operand from left operand and then assign to left operand: True if both operands are equal\n",
    "    - a-=b\n",
    "        - Outcome: a-b\n",
    "- same thing for *= and /=\n",
    "\n",
    "\n",
    "## Data Abstraction\n",
    "- Method used in coding to represent data in a useful form, by taking away aspects of data that aren't being used in the situation\n",
    "- Variables and lists are primary tools in data abstraction\n",
    "- Provides a separation between the abstract properties of a data type and the concrete details of its representation\n",
    "- Lists and Strings\n",
    "    - List = ordered sequence of elements\n",
    "    - Element = individual value in a list that is assigned to a unique index\n",
    "    - Index = a way to reference the elements in a list or string using natural numbers; each element of a string is referenced by an index\n",
    "- Example of a list with colors\n",
    "\n",
    "| Index | Element |\n",
    "| ----- | ------- |\n",
    "| 1 | Green |\n",
    "| 2 | Blue |\n",
    "| 3 | Purple |\n",
    "| 4 | Pink |\n",
    "\n",
    "- At index 1, the element is green, at index 2, the element is blue, etc...\n",
    "\n",
    "### Managing Lists\n",
    "- 3 Types of List Operations\n",
    "    - Assigning values to a list at certain indices\n",
    "    - Creating an empty list and assigning it to a variable\n",
    "    - Assigning a copy of one list to another list (setting one list equal to another list)\n",
    "\n",
    "- Managing complexity\n",
    "    - Helps improve readability\n",
    "    - Reduces the need for new variables as more data is collected\n",
    "    - Can easily update data\n",
    "    - Can easily convert data to different forms\n",
    "\n",
    "#### Practice"
   ]
  },
  {
   "cell_type": "code",
   "execution_count": 10,
   "metadata": {},
   "outputs": [
    {
     "name": "stdout",
     "output_type": "stream",
     "text": [
      "green\n",
      "red\n",
      "pink\n",
      "purple\n",
      "blue\n",
      "brown\n"
     ]
    }
   ],
   "source": [
    "colorList=[\"green\", \"red\", \"pink\", \"purple\", \"blue\", \"brown\"]\n",
    "\n",
    "for i in colorList:\n",
    "    print(i)"
   ]
  },
  {
   "cell_type": "markdown",
   "metadata": {},
   "source": [
    "## Homework\n",
    "You will turn in a program that utilizes lists and variables as it's primary function, options could be a quiz, a sorter, database, or wherever your imagination brings you. You will be graded on how well you understood the concepts and if you used anything other than just the simplest parts."
   ]
  },
  {
   "cell_type": "code",
   "execution_count": 8,
   "metadata": {},
   "outputs": [
    {
     "name": "stdout",
     "output_type": "stream",
     "text": [
      "Current number of questions: 5\n",
      "#1) What is the study of the human body called?\n",
      "Correct! Your answer was anatomy\n",
      "#2) What is the main focus of Unit 3 in Comp Sci\n",
      "Correct! Your answer was algorithms\n",
      "#3) What is the most popular programming language\n",
      "Correct! Your answer was javascript\n",
      "#4) A microphone, keyboard, and mouse are all different types of what?\n",
      "Correct! Your answer was input devices\n",
      "#5) What is the HyperText Markup Language commonly referred to as?\n",
      "not sure is incorrect\n",
      "You scored 4/5\n",
      "This is 80.0%\n"
     ]
    }
   ],
   "source": [
    "QandA = {\n",
    "    \"#1) What is the study of the human body called?\": \"anatomy\", \n",
    "    \"#2) What is the main focus of Unit 3 in Comp Sci\": \"algorithms\", \n",
    "    \"#3) What is the most popular programming language\": \"javascript\", \n",
    "    \"#4) A microphone, keyboard, and mouse are all different types of what?\": \"input devices\", \n",
    "    \"#5) What is the HyperText Markup Language commonly referred to as?\": \"html\", \n",
    "}\n",
    "\n",
    "def qandresp(question): # display question, return inputted response\n",
    "    print(question)\n",
    "    resp = input()\n",
    "    return resp\n",
    "\n",
    "correct = 0 \n",
    "\n",
    "# Setup\n",
    "print(\"Current number of questions: \" + str(len(QandA)))\n",
    "\n",
    "# iterate over each key\n",
    "for key in QandA:\n",
    "    rsp = qandresp(key) # save user's response to a variable rsp\n",
    "    rsp = rsp.lower() # answer is case sensitive, so match response to lowercase for answer key to work\n",
    "    if rsp == QandA[key]: # check if the response is equal to the answer in the dictionary\n",
    "        print(f\"Correct! Your answer was {rsp}\")\n",
    "        correct += 1\n",
    "    else:\n",
    "        print(f\"{rsp} is incorrect\") \n",
    "\n",
    "percent = str(round(correct/len(QandA), 2)*100) # calculate percentage (rounded to nearest percent)\n",
    "\n",
    "print(\"You scored \" + str(correct) +\"/\" + str(len(QandA)))\n",
    "print(f\"This is {percent}%\") # print score and percentage\n"
   ]
  }
 ],
 "metadata": {
  "kernelspec": {
   "display_name": "Python 3.9.12 ('base')",
   "language": "python",
   "name": "python3"
  },
  "language_info": {
   "codemirror_mode": {
    "name": "ipython",
    "version": 3
   },
   "file_extension": ".py",
   "mimetype": "text/x-python",
   "name": "python",
   "nbconvert_exporter": "python",
   "pygments_lexer": "ipython3",
   "version": "3.9.12"
  },
  "orig_nbformat": 4,
  "vscode": {
   "interpreter": {
    "hash": "ae7fc39f2ab8b5e6c06b0790456dedf53b90368befc1590efd56e212a30b3916"
   }
  }
 },
 "nbformat": 4,
 "nbformat_minor": 2
}
