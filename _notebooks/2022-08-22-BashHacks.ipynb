{
 "cells": [
  {
   "cell_type": "markdown",
   "metadata": {},
   "source": [
    "# First Bash Project\n",
    "> Running bash and checks along with answers to hacks\n",
    "\n",
    "- toc: true \n",
    "- badges: true\n",
    "- comments: false\n",
    "- categories: [jupyter]"
   ]
  },
  {
   "cell_type": "markdown",
   "metadata": {},
   "source": [
    "## Bash Checks"
   ]
  },
  {
   "cell_type": "code",
   "execution_count": null,
   "metadata": {
    "vscode": {
     "languageId": "shellscript"
    }
   },
   "outputs": [
    {
     "name": "stdout",
     "output_type": "stream",
     "text": [
      "Using conditional statement to create a project directory and project\n",
      "Directory /home/azeemk/vscode exists.\n",
      "Directory /home/azeemk/vscode/APCSP exists.\n"
     ]
    }
   ],
   "source": [
    "echo \"Using conditional statement to create a project directory and project\"\n",
    "\n",
    "# Variable section\n",
    "export project_dir=$HOME/vscode  # change vscode to different name to test git clone\n",
    "export project=$project_dir/APCSP  # change APCSP to name of project from git clone\n",
    "export project_repo=\"https://github.com/nighthawkcoders/APCSP.git\"  # change to project of choice\n",
    "\n",
    "cd ~    # start in home directory\n",
    "\n",
    "# Conditional block to make a project directory\n",
    "if [ ! -d $project_dir ]\n",
    "then \n",
    "    echo \"Directory $project_dir does not exists... makinng directory $project_dir\"\n",
    "    mkdir -p $project_dir\n",
    "fi\n",
    "echo \"Directory $project_dir exists.\" \n",
    "\n",
    "# Conditional block to git clone a project from project_repo\n",
    "if [ ! -d $project ]\n",
    "then\n",
    "    echo \"Directory $project does not exists... cloning $project_repo\"\n",
    "    cd $project_dir\n",
    "    git clone $project_repo\n",
    "    cd ~\n",
    "fi\n",
    "echo \"Directory $project exists.\" "
   ]
  },
  {
   "cell_type": "markdown",
   "metadata": {},
   "source": [
    "### Look inside Fastpages/Github page project\n",
    "> All computers contain files and directories.  The clone brought more files from cloud to your machine.  Using the bash shell you will see some commands that show and interact with files and directories.\n",
    "\n",
    "- \"ls\" lists computer files in Unix and Unix-like operating systems\n",
    "- \"cd\" offers way to navigate and change working directory\n",
    "- \"pwd\" print working directory\n",
    "- \"echo\" used to display line of text/string that are passed as an argument"
   ]
  },
  {
   "cell_type": "code",
   "execution_count": null,
   "metadata": {
    "vscode": {
     "languageId": "shellscript"
    }
   },
   "outputs": [
    {
     "name": "stdout",
     "output_type": "stream",
     "text": [
      "Navigate to project, then navigate to area wwhere files were cloned\n",
      "/home/azeemk/vscode/APCSP\n",
      "\n",
      "list top level or root of files with project pulled from github\n",
      "\u001b[0m\u001b[01;32mGemfile\u001b[0m    \u001b[01;34m_action_files\u001b[0m    \u001b[01;34m_layouts\u001b[0m    \u001b[01;34m_posts\u001b[0m  \u001b[01;32mdocker-compose.yml\u001b[0m\n",
      "LICENSE    _config.yml      \u001b[01;34m_notebooks\u001b[0m  \u001b[01;34m_sass\u001b[0m   \u001b[01;34mimages\u001b[0m\n",
      "\u001b[01;32mMakefile\u001b[0m   \u001b[01;34m_fastpages_docs\u001b[0m  \u001b[01;34m_pages\u001b[0m      \u001b[01;34m_word\u001b[0m   index.html\n",
      "\u001b[01;32mREADME.md\u001b[0m  \u001b[01;34m_includes\u001b[0m        \u001b[01;34m_plugins\u001b[0m    \u001b[01;34massets\u001b[0m  \u001b[01;34mpython\u001b[0m\n",
      "\n",
      "list again with hidden files pulled from github\n",
      "\u001b[0m\u001b[01;34m.\u001b[0m                   .gitignore  \u001b[01;34m_action_files\u001b[0m    \u001b[01;34m_pages\u001b[0m    \u001b[01;32mdocker-compose.yml\u001b[0m\n",
      "\u001b[01;34m..\u001b[0m                  \u001b[01;34m.vscode\u001b[0m     _config.yml      \u001b[01;34m_plugins\u001b[0m  \u001b[01;34mimages\u001b[0m\n",
      ".devcontainer.json  \u001b[01;32mGemfile\u001b[0m     \u001b[01;34m_fastpages_docs\u001b[0m  \u001b[01;34m_posts\u001b[0m    index.html\n",
      "\u001b[01;34m.git\u001b[0m                LICENSE     \u001b[01;34m_includes\u001b[0m        \u001b[01;34m_sass\u001b[0m     \u001b[01;34mpython\u001b[0m\n",
      ".gitattributes      \u001b[01;32mMakefile\u001b[0m    \u001b[01;34m_layouts\u001b[0m         \u001b[01;34m_word\u001b[0m\n",
      "\u001b[01;34m.github\u001b[0m             \u001b[01;32mREADME.md\u001b[0m   \u001b[01;34m_notebooks\u001b[0m       \u001b[01;34massets\u001b[0m\n",
      "\n",
      "list all files in long format\n",
      "total 40\n",
      "drwxr-xr-x 1 azeemk azeemk   512 Aug 25 13:48 \u001b[0m\u001b[01;34m.\u001b[0m\n",
      "drwxr-xr-x 1 azeemk azeemk   512 Aug 25 13:48 \u001b[01;34m..\u001b[0m\n",
      "-rw-r--r-- 1 azeemk azeemk   420 Aug 25 13:48 .devcontainer.json\n",
      "drwxr-xr-x 1 azeemk azeemk   512 Aug 25 13:48 \u001b[01;34m.git\u001b[0m\n",
      "-rw-r--r-- 1 azeemk azeemk    84 Aug 25 13:48 .gitattributes\n",
      "drwxr-xr-x 1 azeemk azeemk   512 Aug 25 13:48 \u001b[01;34m.github\u001b[0m\n",
      "-rw-r--r-- 1 azeemk azeemk   917 Aug 25 13:48 .gitignore\n",
      "drwxr-xr-x 1 azeemk azeemk   512 Aug 25 13:48 \u001b[01;34m.vscode\u001b[0m\n",
      "-rwxr-xr-x 1 azeemk azeemk  1304 Aug 25 13:48 \u001b[01;32mGemfile\u001b[0m\n",
      "-rw-r--r-- 1 azeemk azeemk 11351 Aug 25 13:48 LICENSE\n",
      "-rwxr-xr-x 1 azeemk azeemk  1422 Aug 25 13:48 \u001b[01;32mMakefile\u001b[0m\n",
      "-rwxr-xr-x 1 azeemk azeemk  3614 Aug 25 13:48 \u001b[01;32mREADME.md\u001b[0m\n",
      "drwxr-xr-x 1 azeemk azeemk   512 Aug 25 13:48 \u001b[01;34m_action_files\u001b[0m\n",
      "-rw-r--r-- 1 azeemk azeemk  3716 Aug 25 13:48 _config.yml\n",
      "drwxr-xr-x 1 azeemk azeemk   512 Aug 25 13:48 \u001b[01;34m_fastpages_docs\u001b[0m\n",
      "drwxr-xr-x 1 azeemk azeemk   512 Aug 25 13:48 \u001b[01;34m_includes\u001b[0m\n",
      "drwxr-xr-x 1 azeemk azeemk   512 Aug 25 13:48 \u001b[01;34m_layouts\u001b[0m\n",
      "drwxr-xr-x 1 azeemk azeemk   512 Aug 25 13:48 \u001b[01;34m_notebooks\u001b[0m\n",
      "drwxr-xr-x 1 azeemk azeemk   512 Aug 25 13:48 \u001b[01;34m_pages\u001b[0m\n",
      "drwxr-xr-x 1 azeemk azeemk   512 Aug 25 13:48 \u001b[01;34m_plugins\u001b[0m\n",
      "drwxr-xr-x 1 azeemk azeemk   512 Aug 25 13:48 \u001b[01;34m_posts\u001b[0m\n",
      "drwxr-xr-x 1 azeemk azeemk   512 Aug 25 13:48 \u001b[01;34m_sass\u001b[0m\n",
      "drwxr-xr-x 1 azeemk azeemk   512 Aug 25 13:48 \u001b[01;34m_word\u001b[0m\n",
      "drwxr-xr-x 1 azeemk azeemk   512 Aug 25 13:48 \u001b[01;34massets\u001b[0m\n",
      "-rwxr-xr-x 1 azeemk azeemk  1136 Aug 25 13:48 \u001b[01;32mdocker-compose.yml\u001b[0m\n",
      "drwxr-xr-x 1 azeemk azeemk   512 Aug 25 13:48 \u001b[01;34mimages\u001b[0m\n",
      "-rw-r--r-- 1 azeemk azeemk  1061 Aug 25 13:48 index.html\n",
      "drwxr-xr-x 1 azeemk azeemk   512 Aug 25 13:48 \u001b[01;34mpython\u001b[0m\n"
     ]
    }
   ],
   "source": [
    "# You must run cells above to define variable and project\n",
    "\n",
    "echo \"Navigate to project, then navigate to area wwhere files were cloned\"\n",
    "cd $project\n",
    "pwd\n",
    "\n",
    "echo \"\"\n",
    "echo \"list top level or root of files with project pulled from github\"\n",
    "ls\n",
    "\n",
    "echo \"\"\n",
    "echo \"list again with hidden files pulled from github\"\n",
    "ls -a   # hidden files flag, many shell commands have flags\n",
    "\n",
    "echo \"\"\n",
    "echo \"list all files in long format\"\n",
    "ls -al   # all files and long listing"
   ]
  },
  {
   "cell_type": "code",
   "execution_count": null,
   "metadata": {
    "vscode": {
     "languageId": "shellscript"
    }
   },
   "outputs": [
    {
     "name": "stdout",
     "output_type": "stream",
     "text": [
      "Look for posts\n",
      "/home/azeemk/vscode/APCSP/_posts\n",
      "total 224\n",
      "-rw-r--r-- 1 azeemk azeemk 21306 Aug 25 13:48 2022-06-01-TT160-deploy.md\n",
      "-rw-r--r-- 1 azeemk azeemk  5861 Aug 25 13:48 2022-07-07-PBL-binary.md\n",
      "-rw-r--r-- 1 azeemk azeemk  3085 Aug 25 13:48 2022-07-08-PBL-grade_calc.md\n",
      "-rw-r--r-- 1 azeemk azeemk  3698 Aug 25 13:48 2022-07-08-PBL-graph.md\n",
      "-rw-r--r-- 1 azeemk azeemk  5729 Aug 25 13:48 2022-07-08-PBL-life.md\n",
      "-rw-r--r-- 1 azeemk azeemk 14387 Aug 25 13:48 2022-07-08-PBL-snake.md\n",
      "-rw-r--r-- 1 azeemk azeemk   334 Aug 25 13:48 2022-07-10-PBL-database.md\n",
      "-rw-r--r-- 1 azeemk azeemk  2908 Aug 25 13:48 2022-07-10-PBL-jokes.md\n",
      "-rw-r--r-- 1 azeemk azeemk  4046 Aug 25 13:48 2022-07-10-PBL-rapidapi.md\n",
      "-rw-r--r-- 1 azeemk azeemk  6685 Aug 25 13:48 2022-07-19-PBL-calculator.md\n",
      "-rw-r--r-- 1 azeemk azeemk 23325 Aug 25 13:48 2022-07-25-CSP-workshop.md\n",
      "-rw-r--r-- 1 azeemk azeemk  2333 Aug 25 13:48 2022-08-15-TP000-student_score_history.md\n",
      "-rw-r--r-- 1 azeemk azeemk  4363 Aug 25 13:48 2022-08-15-TP100-pseudo_code.md\n",
      "-rw-r--r-- 1 azeemk azeemk  7968 Aug 25 13:48 2022-08-15-TR100-tool_setup.md\n",
      "-rw-r--r-- 1 azeemk azeemk 15026 Aug 25 13:48 2022-08-15-TT100-tools.md\n",
      "-rw-r--r-- 1 azeemk azeemk  5590 Aug 25 13:48 2022-08-15-TT101-vscode-wsl.md\n",
      "-rw-r--r-- 1 azeemk azeemk  2155 Aug 25 13:48 2022-08-22-TR110-intro_python.md\n",
      "-rw-r--r-- 1 azeemk azeemk  5173 Aug 25 13:48 2022-08-22-TT110-fastpages.md\n",
      "-rw-r--r-- 1 azeemk azeemk  2798 Aug 25 13:48 2022-08-22-TT110-focus.md\n",
      "-rw-r--r-- 1 azeemk azeemk  2737 Aug 25 13:48 2022-08-29-TR120-data_abstract.md\n",
      "-rw-r--r-- 1 azeemk azeemk 10683 Aug 25 13:48 2022-08-29-TT120-agile.md\n",
      "-rw-r--r-- 1 azeemk azeemk  4498 Aug 25 13:48 2022-08-29-TT120-html_fragments.md\n",
      "-rw-r--r-- 1 azeemk azeemk  9037 Aug 25 13:48 2022-09-05-TP130-create_performance_task.md\n",
      "-rw-r--r-- 1 azeemk azeemk  7753 Aug 25 13:48 2022-09-05-TP131-create-task-bria.md\n",
      "-rw-r--r-- 1 azeemk azeemk  8066 Aug 25 13:48 2022-09-05-TR130-creative_development.md\n",
      "-rw-r--r-- 1 azeemk azeemk  3520 Aug 25 13:48 2022-09-05-TT130-applab.md\n",
      "-rw-r--r-- 1 azeemk azeemk   720 Aug 25 13:48 README.md\n"
     ]
    }
   ],
   "source": [
    "# You must run cells above to define variable and project\n",
    "\n",
    "echo \"Look for posts\"\n",
    "export posts=$project/_posts  # _posts inside project\n",
    "cd $posts  # this should exist per fastpages\n",
    "pwd  # present working directory\n",
    "ls -l  # list posts"
   ]
  },
  {
   "cell_type": "code",
   "execution_count": null,
   "metadata": {
    "vscode": {
     "languageId": "shellscript"
    }
   },
   "outputs": [
    {
     "name": "stdout",
     "output_type": "stream",
     "text": [
      "Look for notebooks\n",
      "/home/azeemk/vscode/APCSP/_notebooks\n",
      "total 140\n",
      "-rw-r--r-- 1 azeemk azeemk 14243 Aug 25 13:48 2022-06-01-TT150-webapi_tutorial.ipynb\n",
      "-rw-r--r-- 1 azeemk azeemk  8653 Aug 25 13:48 2022-07-21-PBL-neo4j_intro.ipynb\n",
      "-rw-r--r-- 1 azeemk azeemk 11694 Aug 25 13:48 2022-08-22-TP110-python_hello.ipynb\n",
      "-rw-r--r-- 1 azeemk azeemk 20003 Aug 25 13:48 2022-08-22-TT110-anthony_and_sahil.ipynb\n",
      "-rw-r--r-- 1 azeemk azeemk  9525 Aug 25 13:48 2022-08-22-TT110-bash_tutorial.ipynb\n",
      "-rw-r--r-- 1 azeemk azeemk 35721 Aug 25 13:48 2022-08-25-tool_check.ipynb\n",
      "-rw-r--r-- 1 azeemk azeemk 10141 Aug 25 13:48 2022-08-29-TP120-python_lists.ipynb\n",
      "-rw-r--r-- 1 azeemk azeemk 12632 Aug 25 13:48 2022-09-05-TT130-js_tutorial.ipynb\n",
      "-rw-r--r-- 1 azeemk azeemk   771 Aug 25 13:48 README.md\n",
      "drwxr-xr-x 1 azeemk azeemk   512 Aug 25 13:48 \u001b[0m\u001b[01;34mimages\u001b[0m\n"
     ]
    }
   ],
   "source": [
    "# You must run cells above to define variable and project\n",
    "\n",
    "echo \"Look for notebooks\"\n",
    "export notebooks=$project/_notebooks  # _notebooks is inside project\n",
    "cd $notebooks   # this should exist per fastpages\n",
    "pwd  # present working directory\n",
    "ls -l  # list notebooks"
   ]
  },
  {
   "cell_type": "code",
   "execution_count": null,
   "metadata": {
    "vscode": {
     "languageId": "shellscript"
    }
   },
   "outputs": [
    {
     "name": "stdout",
     "output_type": "stream",
     "text": [
      "Look for images in notebooks, print working directory, list files\n",
      "/home/azeemk/vscode/APCSP/_notebooks/images\n",
      "total 100\n",
      "-rw-r--r-- 1 azeemk azeemk 101617 Aug 25 13:48 \u001b[0m\u001b[01;35mkernels.png\u001b[0m\n"
     ]
    }
   ],
   "source": [
    "# You must run cells above to define notebooks location\n",
    "\n",
    "echo \"Look for images in notebooks, print working directory, list files\"\n",
    "cd $notebooks/images  # this should exist per fastpages\n",
    "pwd\n",
    "ls -l"
   ]
  },
  {
   "cell_type": "markdown",
   "metadata": {},
   "source": [
    "### Look inside a Markdown File\n",
    "> \"cat\" reads data from the file and gives its content as output"
   ]
  },
  {
   "cell_type": "code",
   "execution_count": null,
   "metadata": {
    "vscode": {
     "languageId": "shellscript"
    }
   },
   "outputs": [
    {
     "name": "stdout",
     "output_type": "stream",
     "text": [
      "Navigate to project, then navigate to area wwhere files were cloned\n",
      "show the contents of README.md\n",
      "\n",
      "[//]: # (This template replaces README.md when someone creates a new repo with the fastpages template.)\n",
      "\n",
      "![](https://github.com/nighthawkcoders/APCSP/workflows/CI/badge.svg) \n",
      "![](https://github.com/nighthawkcoders/APCSP/workflows/GH-Pages%20Status/badge.svg) \n",
      "[![](https://img.shields.io/static/v1?label=fastai&message=fastpages&color=57aeac&labelColor=black&style=flat&logo=data:image/png;base64,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)](https://github.com/fastai/fastpages)\n",
      "\n",
      "https://nighthawkcoders.github.io/APCSP/\n",
      "\n",
      "# My Blog\n",
      "\n",
      "\n",
      "_powered by [fastpages](https://github.com/fastai/fastpages)_\n",
      "\n",
      "\n",
      "## What To Do Next?\n",
      "\n",
      "Great!  You have setup your repo.  Now its time to start writing content.  Some helpful links:\n",
      "\n",
      "- [Writing Blogs With Jupyter](https://github.com/fastai/fastpages#writing-blog-posts-with-jupyter)\n",
      "\n",
      "- [Writing Blogs With Markdown](https://github.com/fastai/fastpages#writing-blog-posts-with-markdown)\n",
      "\n",
      "- [Writing Blog Posts With Word](https://github.com/fastai/fastpages#writing-blog-posts-with-microsoft-word)\n",
      "\n",
      "- [(Optional) Preview Your Blog Locally](_fastpages_docs/DEVELOPMENT.md)\n",
      "\n",
      "Note: you may want to remove example blog posts from the `_posts`,  `_notebooks` or `_word` folders (but leave them empty, don't delete these folders) if you don't want these blog posts to appear on your site.\n",
      "\n",
      "Please use the [nbdev & blogging channel](https://forums.fast.ai/c/fastai-users/nbdev/48) in the fastai forums for any questions or feature requests.\n",
      "\n",
      "end of README.md\n"
     ]
    }
   ],
   "source": [
    "# You must run cells above to define project\n",
    "echo \"Navigate to project, then navigate to area wwhere files were cloned\"\n",
    "\n",
    "cd $project\n",
    "echo \"show the contents of README.md\"\n",
    "echo \"\"\n",
    "\n",
    "cat README.md  # show contents of file, in this case markdown\n",
    "echo \"\"\n",
    "echo \"end of README.md\"\n"
   ]
  },
  {
   "cell_type": "markdown",
   "metadata": {},
   "source": [
    "### Env, Git and GitHub\n",
    "> Env(ironment) is used to capture things like path to Code or Home directory.  Git and GitHub is NOT Only used to exchange code between individuals, it is often used to exchange code through servers, in our case deployment for Website.   All tools we use have a behind the scenes hav relationship with the system they run on (MacOS, Windows, Linus) or a relationship with servers which they are connected to (ie GitHub).  There is an \"env\" command in bash.  There are environment files and setting files (.git/config) for Git.  They both use a key/value concept.\n",
    "\n",
    "- \"env\" show setting for your shell\n",
    "- \"git clone\" sets up a director of files\n",
    "- \"cd $project\" allows user to move inside that directory of files\n",
    "- \".git\" is a hidden directory that is used by git to establish relationship between machine and the git server on GitHub.  "
   ]
  },
  {
   "cell_type": "code",
   "execution_count": null,
   "metadata": {
    "vscode": {
     "languageId": "shellscript"
    }
   },
   "outputs": [
    {
     "name": "stdout",
     "output_type": "stream",
     "text": [
      "Show the shell environment variables, key on left of equal value on right\n",
      "\n",
      "SHELL=/bin/bash\n",
      "PYTHONUNBUFFERED=1\n",
      "project=/home/azeemk/vscode/APCSP\n",
      "CONDA_EXE=/home/azeemk/anaconda3/bin/conda\n",
      "_CE_M=\n",
      "APPLICATION_INSIGHTS_NO_DIAGNOSTIC_CHANNEL=1\n",
      "WSL_DISTRO_NAME=Ubuntu\n",
      "ELECTRON_RUN_AS_NODE=1\n",
      "VSCODE_AMD_ENTRYPOINT=vs/workbench/api/node/extensionHostProcess\n",
      "NAME=School2\n",
      "PWD=/home/azeemk/vscode/APCSP\n",
      "LOGNAME=azeemk\n",
      "CONDA_PREFIX=/home/azeemk/anaconda3\n",
      "project_dir=/home/azeemk/vscode\n",
      "HOME=/home/azeemk\n",
      "LANG=C.UTF-8\n",
      "LS_COLORS=rs=0:di=01;34:ln=01;36:mh=00:pi=40;33:so=01;35:do=01;35:bd=40;33;01:cd=40;33;01:or=40;31;01:mi=00:su=37;41:sg=30;43:ca=30;41:tw=30;42:ow=34;42:st=37;44:ex=01;32:*.tar=01;31:*.tgz=01;31:*.arc=01;31:*.arj=01;31:*.taz=01;31:*.lha=01;31:*.lz4=01;31:*.lzh=01;31:*.lzma=01;31:*.tlz=01;31:*.txz=01;31:*.tzo=01;31:*.t7z=01;31:*.zip=01;31:*.z=01;31:*.dz=01;31:*.gz=01;31:*.lrz=01;31:*.lz=01;31:*.lzo=01;31:*.xz=01;31:*.zst=01;31:*.tzst=01;31:*.bz2=01;31:*.bz=01;31:*.tbz=01;31:*.tbz2=01;31:*.tz=01;31:*.deb=01;31:*.rpm=01;31:*.jar=01;31:*.war=01;31:*.ear=01;31:*.sar=01;31:*.rar=01;31:*.alz=01;31:*.ace=01;31:*.zoo=01;31:*.cpio=01;31:*.7z=01;31:*.rz=01;31:*.cab=01;31:*.wim=01;31:*.swm=01;31:*.dwm=01;31:*.esd=01;31:*.jpg=01;35:*.jpeg=01;35:*.mjpg=01;35:*.mjpeg=01;35:*.gif=01;35:*.bmp=01;35:*.pbm=01;35:*.pgm=01;35:*.ppm=01;35:*.tga=01;35:*.xbm=01;35:*.xpm=01;35:*.tif=01;35:*.tiff=01;35:*.png=01;35:*.svg=01;35:*.svgz=01;35:*.mng=01;35:*.pcx=01;35:*.mov=01;35:*.mpg=01;35:*.mpeg=01;35:*.m2v=01;35:*.mkv=01;35:*.webm=01;35:*.ogm=01;35:*.mp4=01;35:*.m4v=01;35:*.mp4v=01;35:*.vob=01;35:*.qt=01;35:*.nuv=01;35:*.wmv=01;35:*.asf=01;35:*.rm=01;35:*.rmvb=01;35:*.flc=01;35:*.avi=01;35:*.fli=01;35:*.flv=01;35:*.gl=01;35:*.dl=01;35:*.xcf=01;35:*.xwd=01;35:*.yuv=01;35:*.cgm=01;35:*.emf=01;35:*.ogv=01;35:*.ogx=01;35:*.aac=00;36:*.au=00;36:*.flac=00;36:*.m4a=00;36:*.mid=00;36:*.midi=00;36:*.mka=00;36:*.mp3=00;36:*.mpc=00;36:*.ogg=00;36:*.ra=00;36:*.wav=00;36:*.oga=00;36:*.opus=00;36:*.spx=00;36:*.xspf=00;36:\n",
      "CONDA_PROMPT_MODIFIER=(base) \n",
      "PYDEVD_USE_FRAME_EVAL=NO\n",
      "posts=/home/azeemk/vscode/APCSP/_posts\n",
      "LESSCLOSE=/usr/bin/lesspipe %s %s\n",
      "VSCODE_HANDLES_SIGPIPE=true\n",
      "TERM=xterm-256color\n",
      "_CE_CONDA=\n",
      "LESSOPEN=| /usr/bin/lesspipe %s\n",
      "USER=azeemk\n",
      "PYTHONIOENCODING=utf-8\n",
      "notebooks=/home/azeemk/vscode/APCSP/_notebooks\n",
      "CONDA_SHLVL=1\n",
      "SHLVL=1\n",
      "PAGER=cat\n",
      "project_repo=https://github.com/nighthawkcoders/APCSP.git\n",
      "VSCODE_CWD=/mnt/c/Users/Azeem/AppData/Local/Programs/Microsoft VS Code\n",
      "CONDA_PYTHON_EXE=/home/azeemk/anaconda3/bin/python\n",
      "PS1=[PEXP\\[\\]ECT_PROMPT>\n",
      "CONDA_DEFAULT_ENV=base\n",
      "WSLENV=VSCODE_WSL_EXT_LOCATION/up\n",
      "VSCODE_WSL_EXT_LOCATION=/mnt/c/Users/Azeem/.vscode/extensions/ms-vscode-remote.remote-wsl-0.66.3\n",
      "PATH=/home/azeemk/anaconda3/bin:/home/azeemk/anaconda3/condabin:/home/azeemk/.vscode-server/bin/e4503b30fc78200f846c62cf8091b76ff5547662/bin/remote-cli:/usr/local/sbin:/usr/local/bin:/usr/sbin:/usr/bin:/sbin:/bin:/usr/games:/usr/local/games:/mnt/c/Program Files (x86)/Intel/iCLS Client:/mnt/c/Program Files/Intel/iCLS Client:/mnt/c/Windows/system32:/mnt/c/Windows:/mnt/c/Windows/System32/Wbem:/mnt/c/Windows/System32/WindowsPowerShell/v1.0:/mnt/c/Windows/System32/OpenSSH:/mnt/c/Program Files (x86)/Intel/Intel(R) Management Engine Components/DAL:/mnt/c/Program Files/Intel/Intel(R) Management Engine Components/DAL:/mnt/c/Program Files (x86)/Intel/Intel(R) Management Engine Components/IPT:/mnt/c/Program Files/Intel/Intel(R) Management Engine Components/IPT:/mnt/c/Users/Azeem/AppData/Local/Microsoft/WindowsApps:/mnt/c/Users/Azeem/AppData/Local/Programs/Microsoft VS Code/bin\n",
      "VSCODE_NLS_CONFIG={\"locale\":\"en\",\"availableLanguages\":{}}\n",
      "HOSTTYPE=x86_64\n",
      "VSCODE_HANDLES_UNCAUGHT_ERRORS=true\n",
      "OLDPWD=/home/azeemk/vscode/APCSP/_notebooks/images\n",
      "VSCODE_IPC_HOOK_CLI=/tmp/vscode-ipc-b307265c-6112-4c5a-b2b9-bce1c3dc5931.sock\n",
      "_=/usr/bin/env\n"
     ]
    }
   ],
   "source": [
    "# This command has no dependencies\n",
    "\n",
    "echo \"Show the shell environment variables, key on left of equal value on right\"\n",
    "echo \"\"\n",
    "\n",
    "env"
   ]
  },
  {
   "cell_type": "code",
   "execution_count": null,
   "metadata": {
    "vscode": {
     "languageId": "shellscript"
    }
   },
   "outputs": [
    {
     "name": "stdout",
     "output_type": "stream",
     "text": [
      "\n",
      "show the secrets of .git\n",
      "total 24\n",
      "-rw-r--r-- 1 azeemk azeemk    23 Aug 25 13:48 HEAD\n",
      "drwxr-xr-x 1 azeemk azeemk   512 Aug 25 13:48 \u001b[0m\u001b[01;34mbranches\u001b[0m\n",
      "-rw-r--r-- 1 azeemk azeemk   269 Aug 25 13:48 config\n",
      "-rw-r--r-- 1 azeemk azeemk    73 Aug 25 13:48 description\n",
      "drwxr-xr-x 1 azeemk azeemk   512 Aug 25 13:48 \u001b[01;34mhooks\u001b[0m\n",
      "-rw-r--r-- 1 azeemk azeemk 20021 Aug 25 13:48 index\n",
      "drwxr-xr-x 1 azeemk azeemk   512 Aug 25 13:48 \u001b[01;34minfo\u001b[0m\n",
      "drwxr-xr-x 1 azeemk azeemk   512 Aug 25 13:48 \u001b[01;34mlogs\u001b[0m\n",
      "drwxr-xr-x 1 azeemk azeemk   512 Aug 25 13:48 \u001b[01;34mobjects\u001b[0m\n",
      "-rw-r--r-- 1 azeemk azeemk   271 Aug 25 13:48 packed-refs\n",
      "drwxr-xr-x 1 azeemk azeemk   512 Aug 25 13:48 \u001b[01;34mrefs\u001b[0m\n",
      "\n",
      "look at config file\n",
      "[core]\n",
      "\trepositoryformatversion = 0\n",
      "\tfilemode = true\n",
      "\tbare = false\n",
      "\tlogallrefupdates = true\n",
      "[remote \"origin\"]\n",
      "\turl = https://github.com/nighthawkcoders/APCSP.git\n",
      "\tfetch = +refs/heads/*:refs/remotes/origin/*\n",
      "[branch \"master\"]\n",
      "\tremote = origin\n",
      "\tmerge = refs/heads/master\n"
     ]
    }
   ],
   "source": [
    "# This command has dependencies on project\n",
    "\n",
    "cd $project\n",
    "\n",
    "echo \"\"\n",
    "echo \"show the secrets of .git\"\n",
    "cd .git\n",
    "ls -l\n",
    "\n",
    "echo \"\"\n",
    "echo \"look at config file\"\n",
    "cat config"
   ]
  },
  {
   "cell_type": "markdown",
   "metadata": {},
   "source": [
    "## Hacks\n",
    "> Go back to some of the deployment procedures and think about some thing you could verify through Bash notebook.\n",
    "\n",
    "- Is there anything we use to verify tools we install? Think about versions.\n",
    "- Is there anything we could verify with Anaconda?\n",
    "- How would you update a repository?\n",
    "- Really cool would be automating a procedure from installation.\n"
   ]
  },
  {
   "cell_type": "markdown",
   "metadata": {},
   "source": [
    "### Answers to Hacks"
   ]
  },
  {
   "cell_type": "markdown",
   "metadata": {},
   "source": [
    "- It may be possible to verify tools we install by running conditional commands to tell us if we have a certain version of something.\n",
    "- We can use `conda list` to verify all packages and version installed.\n",
    "- Use a `git add` command to add needed files, use `git commit` to commit to the correct repository, and use `git push` to push changes to repository.\n",
    "- We can program a scipt to automate an action."
   ]
  }
 ],
 "metadata": {
  "kernelspec": {
   "display_name": "Python 3.9.12 ('base')",
   "language": "python",
   "name": "python3"
  },
  "language_info": {
   "name": "python",
   "version": "3.9.12"
  },
  "orig_nbformat": 4,
  "vscode": {
   "interpreter": {
    "hash": "ae7fc39f2ab8b5e6c06b0790456dedf53b90368befc1590efd56e212a30b3916"
   }
  }
 },
 "nbformat": 4,
 "nbformat_minor": 2
}
