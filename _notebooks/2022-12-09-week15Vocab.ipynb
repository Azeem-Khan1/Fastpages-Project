{
 "cells": [
  {
   "attachments": {},
   "cell_type": "markdown",
   "metadata": {},
   "source": [
    "# Post Turkey Pre Tree Vocab\n",
    "> Vocab from weeks 13-15\n",
    "\n",
    "- layout: default\n",
    "- comments: true\n",
    "- toc: true\n",
    "- permalink: /vocabulary\n",
    "- categories: [Student Teaching Portfolio]"
   ]
  },
  {
   "attachments": {},
   "cell_type": "markdown",
   "metadata": {},
   "source": [
    "\n",
    "# Definitions\n",
    "\n",
    "| Term | Definition |\n",
    "| ---- | ---------- |\n",
    "| Algorithm | At its core, an algorithm is really just a generalized, conceptual solution to a problem that can later be implemented in some real-world form like a computer program. |\n",
    "| Application Program Interface | Application program interface (API) is a set of routines, protocols, and tools for constructing software applications. An API specifies how software components should interact. In addition, APIs are used when programming graphical user interface (GUI) components. |\n",
    "| Binary | A numeric system of base 2 that only uses combinations of the digits zero and one; this is used in one of the lowest levels of abstraction. Computers operate in binary, as they store data and perform calculations using only zeros and ones. While a single binary digit can be used to represent True (1) or False (0) in boolean logic, multiple binary digits can be used in conjunction to store large numbers and perform complex functions. Computers translate between binary and what you actually work with such as numbers and text. |\n",
    "| Binary Search | A search algorithm that locates the position of a target value within a sorted array by repeatedly dividing the search interval in half; can only be used when the list is sorted. Because of its divide-and-conquer approach, the amount of work required to find an item grows much more slowly with Binary Search than with Sequential Search. In fact, with this logarithmic behavior |\n",
    "| Boolean Function*\t| Any function based on the operations AND, OR, and NOT, and whose elements are from the domain of Boolean algebra. A function whose arguments, as well as the function itself, assume values from a two-element set (usually {0,1}) Central Processing Unit CPU, or processor, is the brains of the computer where most calculations take place. Contains the circuitry necessary to interpret and execute program instructions. |\n",
    "| Computational Artifact | Something created by a human using a computer and can be, but is not limited to, a program, an image, an audio, a video, a presentation, or web page file |\n",
    "| Cryptography | The science of coding and decoding messages in order to keep them secure. Coding takes place using a key that ideally is known only by the sender and intended recipient of the message. |\n",
    "| Floating Point Numbers | As the name implies, floating point numbers are numbers that contain floating decimal points. Examples include, the numbers 5.5, 0.001, and -2,345.6789. Numbers without decimal places are called integers. Computers recognize real numbers that contain fractions as floating point numbers. |\n",
    "| Hexadecimal | Hexadecimal describes a base-16 number system. That is, it describes a numbering system containing 16 sequential numbers as base units (including 0) before adding a new position for the next number. The hexadecimal numbers are 0-9 and then use the letters A-F. Used to represent digital data because it utilizes fewer digits than binary. |\n",
    "| Integers | An integer is a whole number (not a fraction) that can be positive, negative, or zero. In computer science, an integer is a datum of integral data type, a data type that represents some finite subset of the mathematical integers. Integral data types may be of different sizes and may or may not be allowed to contain negative values. |\n",
    "| Iterations | Iteration is the repetition of part of an algorithm until a condition is met or for a specified number of times. This is often called a ‘loop’. Recursive functions repeatedly execute themselves as part of their operation. Upon completing all instructions and resetting to the first one iteration has been completed. |\n",
    "| Libraries | In computer science, a library is a collection of non-volatile resources that a program can use often to develop software. Libraries are particularly useful for storing frequently used routines because you do not need to explicitly link them to every program that uses them. The linker automatically looks in libraries for routines that it does not find elsewhere. Resources which may be found in libraries include data, documentation, message templates, pre-written code, classes, or values. |\n",
    "| Linear/Sequential Search | A process that checks every element in the list sequentially until the desired element is found or all elements have been searched. Can be used in any type of list. Has linear performance. |\n",
    "| Lossless Data Compression | With lossless compression, every single bit of data that was originally in the file remains after the file is uncompressed. All of the information is completely restored. This is generally the technique of choice for text or spreadsheet files, where the loss of words or financial data could pose a problem. PNG is an image format that provides lossless compression. |\n",
    "| Lossy Data Compression | Lossy compression reduces a file by permanently eliminating certain information, especially redundant information. When the file is uncompressed, only a part of the original information is still there (although the user may not notice it). Lossy compression is generally used for video and sound, where a certain amount of information loss will not be detected by most users. JPEG provides lossy compression. |\n",
    "| Metadata | Metadata is data that describes other data. Metadata summarizes basic information about data, which can make finding and working with particular instances of data easier. It provides information concerning an item’s content such as image resolution and size. |\n",
    "| Pseudocode | Pseudocode is a detailed yet readable description of what a computer program or algorithm must do. It may also describe an operating principle. It is expressed in a formally-styled natural language rather than in a programming language intended for humans. The conventions of normal programming continue. |\n",
    "| Sequencing | The execution of each step/action of an algorithm in the precise order in which the statements are given. |"
   ]
  },
  {
   "attachments": {},
   "cell_type": "markdown",
   "metadata": {},
   "source": [
    "# Code Examples\n",
    "\n",
    "Algorithm + binary:"
   ]
  },
  {
   "cell_type": "code",
   "execution_count": 2,
   "metadata": {},
   "outputs": [
    {
     "name": "stdout",
     "output_type": "stream",
     "text": [
      "1110\n"
     ]
    }
   ],
   "source": [
    "\n",
    "# converts decimal to binary\n",
    "\n",
    "def decimal_to_binary(num):\n",
    "  # Create an empty list to store the binary digits\n",
    "  binary_digits = []\n",
    "\n",
    "  # Create a loop that continues until the number is zero\n",
    "  while num > 0:\n",
    "    # Use the modulo operator to find the remainder when the number is divided by 2\n",
    "    remainder = num % 2\n",
    "\n",
    "    # Divide the number by 2 and store the result in the same variable\n",
    "    num = num // 2\n",
    "\n",
    "    # Insert the remainder at the beginning of the list\n",
    "    binary_digits.insert(0, remainder)\n",
    "\n",
    "  # Return the list of binary digits as a string\n",
    "  return \"\".join([str(x) for x in binary_digits])\n",
    "\n",
    "\n",
    "# calling the code\n",
    "decimal_num = 14\n",
    "binary_num = decimal_to_binary(decimal_num)\n",
    "print(binary_num) # Output: 1110\n",
    "\n"
   ]
  },
  {
   "attachments": {},
   "cell_type": "markdown",
   "metadata": {},
   "source": [
    "Binary search:"
   ]
  },
  {
   "cell_type": "code",
   "execution_count": 3,
   "metadata": {},
   "outputs": [
    {
     "name": "stdout",
     "output_type": "stream",
     "text": [
      "3\n"
     ]
    }
   ],
   "source": [
    "\n",
    "# Binary search\n",
    "\n",
    "def binary_search(arr, target):\n",
    "  # Set the initial bounds of the search area\n",
    "  low = 0\n",
    "  high = len(arr) - 1\n",
    "\n",
    "  # Continue searching until the bounds are the same or cross each other\n",
    "  while low <= high:\n",
    "    # Find the midpoint of the search area\n",
    "    mid = (low + high) // 2\n",
    "\n",
    "    # Check if the target is the midpoint\n",
    "    if arr[mid] == target:\n",
    "      return mid\n",
    "\n",
    "    # If the target is greater than the midpoint, narrow the search area to the right\n",
    "    elif arr[mid] < target:\n",
    "      low = mid + 1\n",
    "\n",
    "    # If the target is less than the midpoint, narrow the search area to the left\n",
    "    else:\n",
    "      high = mid - 1\n",
    "\n",
    "  # If the target was not found, return -1\n",
    "  return -1\n",
    "\n",
    "# calling the code\n",
    "arr = [1, 3, 5, 7, 9, 11, 13, 15]\n",
    "target = 7\n",
    "index = binary_search(arr, target)\n",
    "print(index) # Output: 3"
   ]
  },
  {
   "attachments": {},
   "cell_type": "markdown",
   "metadata": {},
   "source": [
    "Boolean function:"
   ]
  },
  {
   "cell_type": "code",
   "execution_count": 5,
   "metadata": {},
   "outputs": [
    {
     "name": "stdout",
     "output_type": "stream",
     "text": [
      "7 is odd.\n",
      "False\n"
     ]
    }
   ],
   "source": [
    "\n",
    "# Is the number even or odd? (using Boolean)\n",
    "\n",
    "\n",
    "num = 7\n",
    "\n",
    "def is_even(num):\n",
    "  if num % 2 == 0:\n",
    "    return True\n",
    "  else:\n",
    "    return False\n",
    "\n",
    "if is_even(num):\n",
    "  print(num, \"is even.\")\n",
    "else:\n",
    "  print(num, \"is odd.\")\n",
    "\n",
    "\n",
    "result = is_even(num) # Output: Boolean value (true for even, false for odd)\n",
    "print(result) # Output: False\n",
    "\n"
   ]
  }
 ],
 "metadata": {
  "kernelspec": {
   "display_name": "base",
   "language": "python",
   "name": "python3"
  },
  "language_info": {
   "codemirror_mode": {
    "name": "ipython",
    "version": 3
   },
   "file_extension": ".py",
   "mimetype": "text/x-python",
   "name": "python",
   "nbconvert_exporter": "python",
   "pygments_lexer": "ipython3",
   "version": "3.9.12 (main, Apr  5 2022, 06:56:58) \n[GCC 7.5.0]"
  },
  "orig_nbformat": 4,
  "vscode": {
   "interpreter": {
    "hash": "ae7fc39f2ab8b5e6c06b0790456dedf53b90368befc1590efd56e212a30b3916"
   }
  }
 },
 "nbformat": 4,
 "nbformat_minor": 2
}
