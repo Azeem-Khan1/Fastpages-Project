{
 "cells": [
  {
   "attachments": {},
   "cell_type": "markdown",
   "metadata": {},
   "source": [
    "#  Create Performance Task Draft\n",
    "> Create Performance Task draft - Password Generator\n",
    "- toc: true\n",
    "- badges: false\n",
    "- comments: true\n",
    "- permalink: /week29/CPT\n",
    "- categories: [week 29]"
   ]
  },
  {
   "attachments": {},
   "cell_type": "markdown",
   "metadata": {},
   "source": [
    "# Runtime\n",
    "\n",
    "[Use the password generator here](https://azeem-khan1.github.io/PasswordGenerator)\n",
    "\n",
    "# Video submission\n",
    "\n",
    "\n",
    "# Write-up"
   ]
  }
 ],
 "metadata": {
  "language_info": {
   "name": "python"
  },
  "orig_nbformat": 4
 },
 "nbformat": 4,
 "nbformat_minor": 2
}
