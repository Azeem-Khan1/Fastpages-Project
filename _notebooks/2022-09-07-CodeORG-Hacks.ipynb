{
 "cells": [
  {
   "cell_type": "markdown",
   "metadata": {},
   "source": [
    "# Code.org / AppLab Quiz and Hacks (Week 3)\n",
    "> This is an activity that my partner and I completed using Applab by Code.org\n",
    "\n",
    "- title: AppLab Quiz and Hacks\n",
    "- toc: true\n",
    "- comments: true\n",
    "- permalink: /hacks/applab_hacks\n",
    "- categories: [hacks]\n",
    "- tags: [javascript]"
   ]
  },
  {
   "cell_type": "markdown",
   "metadata": {},
   "source": [
    "## Brainstorm for Program\n",
    "\n",
    "My partner and I decided to make a simple quiz\n",
    "\n",
    "### Questions and Answers\n",
    "\n",
    "Q1: What does SUV stand for?\n",
    "\n",
    "A1: Sports Utility Vehicle\n",
    "\n",
    "A2: Semi Utilitarian Veteran\n",
    "\n",
    "A3: SUper Van\n",
    "\n",
    "A4: Slightly Upset Volvo\n",
    "\n",
    "Q2: Which unique number helps the manufacturer identify your vehicle?\n",
    "\n",
    "A1: VIN\n",
    "\n",
    "A2: License Plate Number\n",
    "\n",
    "A3: MSRP\n",
    "\n",
    "A4: Radiator\n",
    "\n",
    "Q3: What part of ChrisFix's car failed in the 24 hours of Lemons?\n",
    "\n",
    "A1: Blinker Fluid\n",
    "\n",
    "A2: Piston Return Spring\n",
    "\n",
    "A3: Piston Connecting Rod\n",
    "\n",
    "A4: Camshaft\n",
    "\n",
    "\n",
    "## Discoveries, Challenges, and Successes\n",
    "- Block coding is a great introduction to a new language\n",
    "- It takes a long time to figure out how to program something you have in your head\n",
    "- There are various issues that come along with a theoretical plan\n",
    "- I was able to program my quiz so that the first question would be graded and the user could move on to the next question, but from there, I had a lot of trouble continuing that loop until the third question was answered (EDIT: I was able to find a way for this to work using stacked buttons)\n",
    "- Developing a good program takes a lot of trial, error, and debugging to make sure everything runs smoothly\n",
    "- I was able to build the quiz successfully eventually, so [here](https://studio.code.org/projects/applab/--lWSXIASPrNfBPcrQvILzJ2xavbndxXWCYvtsrp24I) it is\n",
    "\n",
    "### Program and Purpose\n",
    "This program is a simple 3-question quiz about random automotive knowledge. It doesn't really have a purpose other than helping us experiment with AppLab and having something to submit for this hack\n",
    "\n",
    "### Data Abstraction\n",
    "We used a data table with all of the question and answer values that we needed. We also figured out how to take values from that table and display them on the virtual screen using getColumn.\n",
    "\n",
    "### Managing Complexity\n",
    "We originally were going to use button elements for the user to select an answer, but that would have made it a lot more complex to code, since they were able to select more than one choice at a time by default. Instead, we decided to use radio buttons, which only allow one selection at a time. This made it simpler to code, but also resulted in us having to figure out how to link those buttons to the choices they represent.\n",
    "\n",
    "### Procedural Abstraction\n",
    "We utilized procedural abstraction in the *Display* function. This function displayed the question and the answer choices for a given problem (based on the parameter that is set when calling the function). For example, if the parameter is set to 0 and we call the *Display* function, it will display question #1 with its corresponding answer choices.\n",
    "\n",
    "### Algorithm Implementation\n",
    "One algorithm that we programmed was to recognize which choice the user has selected and display different things in the answer indicator box after the *check* button is clicked based on if that choice is recognized as correct or incorrect.\n",
    "\n",
    "### Testing\n",
    "After we finished a simple draft of the quiz, I asked another partnership to test it out and give us some tips. I also asked other people outside of class for feedback. One thing someone suggested was to add a start screen and an end screen. Another piece of feedback was that the user should receive a score at the end, so we implemented a start screen with a start button and an end screen that displays the score and a button to try again (which dumps the user back to the start screen).\n",
    "\n",
    "## Alternate App Idea\n",
    "I think that programming an app where the user is able to create and store virtual flashcards would be interesting."
   ]
  }
 ],
 "metadata": {
  "kernelspec": {
   "display_name": "Python 3.8.10 64-bit",
   "language": "python",
   "name": "python3"
  },
  "language_info": {
   "name": "python",
   "version": "3.8.10"
  },
  "orig_nbformat": 4,
  "vscode": {
   "interpreter": {
    "hash": "916dbcbb3f70747c44a77c7bcd40155683ae19c65e1c03b4aa3499c5328201f1"
   }
  }
 },
 "nbformat": 4,
 "nbformat_minor": 2
}
