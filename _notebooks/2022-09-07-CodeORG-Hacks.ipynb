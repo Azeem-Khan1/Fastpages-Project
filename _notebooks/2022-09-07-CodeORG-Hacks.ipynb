{
 "cells": [
  {
   "cell_type": "markdown",
   "metadata": {},
   "source": [
    "# Code.org / AppLab Quiz and Hacks (Week 3)\n",
    "> This is an activity that my partner and I completed using Applab by Code.org\n",
    "\n",
    "- title: AppLab Quiz and Hacks\n",
    "- toc: true\n",
    "- comments: true\n",
    "- permalink: /hacks/applab_hacks\n",
    "- categories: [hacks]\n",
    "- tags: [applab] [javascript]"
   ]
  },
  {
   "cell_type": "markdown",
   "metadata": {},
   "source": [
    "## Brainstorm for Quiz\n",
    "\n",
    "Theme: automotive knowledge\n",
    "\n",
    "### Questions and Answers\n",
    "\n",
    "Q1: What does SUV stand for?\n",
    "\n",
    "A1: Sports Utility Vehicle\n",
    "\n",
    "A2: Semi Utilitarian Veteran\n",
    "\n",
    "A3: SUper Van\n",
    "\n",
    "A4: Slightly Upset Volvo\n",
    "\n",
    "Q2: Which unique number helps the manufacturer identify your vehicle?\n",
    "\n",
    "A1: VIN\n",
    "\n",
    "A2: License Plate Number\n",
    "\n",
    "A3: MSRP\n",
    "\n",
    "A4: Radiator\n",
    "\n",
    "Q3: What part of ChrisFix's car failed in the 24 hours of Lemons?\n",
    "\n",
    "A1: Blinker Fluid\n",
    "\n",
    "A2: Piston Return Spring\n",
    "\n",
    "A3: Piston Connecting Rod\n",
    "\n",
    "A4: Camshaft\n",
    "\n",
    "\n",
    "## Discoveries, Challenges, and Successes\n",
    "- Block coding is a great introduction to a new language\n",
    "- It takes a long time to figure out how to program something you have in your head\n",
    "- There are various issues that come along with a theoretical plan\n",
    "- I was able to program my quiz so that the first question would be graded and the user could move on to the next question, but from there, I had a lot of trouble continuing that loop until the third question was answered"
   ]
  }
 ],
 "metadata": {
  "language_info": {
   "name": "python"
  },
  "orig_nbformat": 4
 },
 "nbformat": 4,
 "nbformat_minor": 2
}
