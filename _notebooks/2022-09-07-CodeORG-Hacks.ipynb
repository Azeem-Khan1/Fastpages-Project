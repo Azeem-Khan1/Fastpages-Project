{
 "cells": [
  {
   "cell_type": "markdown",
   "metadata": {},
   "source": [
    "# Code.org / AppLab Quiz and Hacks (Week 3)\n",
    "> This is an activity that my partner and I completed using Applab by Code.org\n",
    "\n",
    "- title: AppLab Quiz and Hacks\n",
    "- toc: true\n",
    "- comments: true\n",
    "- permalink: /hacks/applab_hacks\n",
    "- categories: [hacks]\n",
    "- tags: [javascript]"
   ]
  },
  {
   "cell_type": "markdown",
   "metadata": {},
   "source": [
    "## Brainstorm for Quiz\n",
    "\n",
    "Theme: automotive knowledge\n",
    "\n",
    "### Questions and Answers\n",
    "\n",
    "Q1: What does SUV stand for?\n",
    "\n",
    "A1: Sports Utility Vehicle\n",
    "\n",
    "A2: Semi Utilitarian Veteran\n",
    "\n",
    "A3: SUper Van\n",
    "\n",
    "A4: Slightly Upset Volvo\n",
    "\n",
    "Q2: Which unique number helps the manufacturer identify your vehicle?\n",
    "\n",
    "A1: VIN\n",
    "\n",
    "A2: License Plate Number\n",
    "\n",
    "A3: MSRP\n",
    "\n",
    "A4: Radiator\n",
    "\n",
    "Q3: What part of ChrisFix's car failed in the 24 hours of Lemons?\n",
    "\n",
    "A1: Blinker Fluid\n",
    "\n",
    "A2: Piston Return Spring\n",
    "\n",
    "A3: Piston Connecting Rod\n",
    "\n",
    "A4: Camshaft\n",
    "\n",
    "\n",
    "## Discoveries, Challenges, and Successes\n",
    "- Block coding is a great introduction to a new language\n",
    "- It takes a long time to figure out how to program something you have in your head\n",
    "- There are various issues that come along with a theoretical plan\n",
    "- I was able to program my quiz so that the first question would be graded and the user could move on to the next question, but from there, I had a lot of trouble continuing that loop until the third question was answered (EDIT: I was able to find a way for this to work using stacked buttons)\n",
    "- Developing a good program takes a lot of trial, error, and debugging to make sure everything runs smoothly\n",
    "- I was able to build the quiz successfully eventually, so [here](https://studio.code.org/projects/applab/--lWSXIASPrNfBPcrQvILzJ2xavbndxXWCYvtsrp24I) it is\n",
    "\n",
    "\n",
    "## Alternate App Idea\n",
    "I think that programming an app where the user is able to create and store virtual flashcards would be interesting."
   ]
  }
 ],
 "metadata": {
  "kernelspec": {
   "display_name": "Python 3.8.10 64-bit",
   "language": "python",
   "name": "python3"
  },
  "language_info": {
   "name": "python",
   "version": "3.8.10"
  },
  "orig_nbformat": 4,
  "vscode": {
   "interpreter": {
    "hash": "916dbcbb3f70747c44a77c7bcd40155683ae19c65e1c03b4aa3499c5328201f1"
   }
  }
 },
 "nbformat": 4,
 "nbformat_minor": 2
}
