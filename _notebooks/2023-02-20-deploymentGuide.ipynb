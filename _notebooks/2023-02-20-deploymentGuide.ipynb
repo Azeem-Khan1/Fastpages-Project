{
 "cells": [
  {
   "attachments": {},
   "cell_type": "markdown",
   "metadata": {},
   "source": [
    "# AWS Deployment Guide\n",
    "> This notebook will guide you step-by-step on how to configure your AWS instance and docker container in order to deploy your backend. Thank you to Mr. Mortensen and Jeffrey Fonseca for resources and instructions.\n",
    "\n",
    "- toc: true\n",
    "- badges: false\n",
    "- permalink: /week22/deploymentGuide\n",
    "- categories: [week 22]"
   ]
  },
  {
   "attachments": {},
   "cell_type": "markdown",
   "metadata": {},
   "source": [
    "## Accessing AWS\n",
    "\n",
    "1. Log in to [Amazon Web Services](https://aws.amazon.com/marketplace/management/signin)\n",
    "> AccountID should be 'nighthawkcodingsociety'\n",
    "\n",
    "2. Set your region to `US East (Ohio) 'us-east-2'` (dropdown on the top right of your screen)\n",
    "\n",
    "3. Find `EC2` on your console\n",
    "\n",
    "4. Navigate to `instances` on the left sidebar\n",
    "\n",
    "5. Find `NCS.cf Yeung CSP` or `NCS.gq Mort CSP`. Click the checkbox and click 'connect'. It should bring you to a different screen; click the orange 'connect' button.\n",
    "\n",
    "6. Run `cd ~`\n",
    "\n",
    "7. Run the set of commands below in order to set your 'webapp' base"
   ]
  },
  {
   "cell_type": "code",
   "execution_count": null,
   "metadata": {
    "vscode": {
     "languageId": "powershell"
    }
   },
   "outputs": [],
   "source": [
    "$ virtualenv -p /usr/bin/python3 webapp\n",
    "$ source webapp/bin/activate"
   ]
  },
  {
   "attachments": {},
   "cell_type": "markdown",
   "metadata": {},
   "source": [
    "## Local Setup\n",
    "\n",
    "### Finding a Port\n",
    "\n",
    "1. Run `docker ps` or `sudo docker ps` and find a port number starting in 8--- that is not in use. (I will be using 8081)\n",
    "\n",
    "\n",
    "### Setting up Docker\n",
    "\n",
    "2. Open VSCode and navigate to your Flask repository (backend)\n",
    "\n",
    "3. Make sure your `Dockerfile` matches the template below."
   ]
  },
  {
   "cell_type": "code",
   "execution_count": null,
   "metadata": {
    "vscode": {
     "languageId": "powershell"
    }
   },
   "outputs": [],
   "source": [
    "FROM docker.io/python:3.10\n",
    "\n",
    "WORKDIR /\n",
    "\n",
    "# --- [Install python and pip] ---\n",
    "RUN apt-get update && apt-get upgrade -y && \\\n",
    "    apt-get install -y python3 python3-pip git\n",
    "COPY . /app\n",
    "\n",
    "RUN pip install --no-cache-dir -r requirements.txt\n",
    "RUN pip install gunicorn\n",
    "\n",
    "ENV GUNICORN_CMD_ARGS=\"--workers=3 --bind=0.0.0.0:8080\"\n",
    "\n",
    "EXPOSE 8080\n",
    "\n",
    "CMD [ \"gunicorn\", \"main:app\" ]"
   ]
  },
  {
   "attachments": {},
   "cell_type": "markdown",
   "metadata": {},
   "source": [
    "4. Edit your `docker-compose.yml` according to the template below."
   ]
  },
  {
   "cell_type": "code",
   "execution_count": null,
   "metadata": {
    "vscode": {
     "languageId": "powershell"
    }
   },
   "outputs": [],
   "source": [
    "version: '3'\n",
    "services:\n",
    "        web:\n",
    "                image: flask_port_v1 # Change the image name to something unique\n",
    "                build: .\n",
    "                ports:\n",
    "                        - \"8---:8080\" # Edit the # on the left to match the port you chose\n",
    "                volumes:\n",
    "                        - ./volumes:/volumes\n",
    "                        - ./instance:/instance\n",
    "                restart: unless-stopped\n"
   ]
  },
  {
   "attachments": {},
   "cell_type": "markdown",
   "metadata": {},
   "source": [
    "5. Test `docker-compose up` or `sudo docker-compose up` in your VSCode terminal (don't forget to 'cd' into the right repo.)\n",
    "\n",
    "6. After it's done building, type in `http://localhost:8---` in your browser (replace '8---' with your port number you've chosen)\n",
    "\n",
    "7. If all runs smoothly, push your changes to Github and continue to [AWS setup](https://azeem-khan1.github.io/fastpages-project/week22/deploymentGuide#AWS-setup)"
   ]
  },
  {
   "attachments": {},
   "cell_type": "markdown",
   "metadata": {},
   "source": [
    "## AWS Setup\n",
    "\n",
    "In the AWS terminal;\n",
    "\n",
    "1. `cd ~`\n",
    "\n",
    "2. Clone your backend repo: `git clone github.com/server/project.git my-unique-name`\n",
    "\n",
    "3. Navigate to your repo: `cd my-unique-name`\n",
    "\n",
    "4. Install your requirements: `pip install -r requirements.txt`\n",
    "\n",
    "5. Test your main.py: `python main.py` (see desired outcome below)\n"
   ]
  },
  {
   "cell_type": "code",
   "execution_count": null,
   "metadata": {
    "vscode": {
     "languageId": "powershell"
    }
   },
   "outputs": [],
   "source": [
    "# MAIN.PY DESIRED OUTCOME\n",
    "\n",
    "(webapp) ubuntu@ip-172-31-1-138:~/yourRepo$ python main.py\n",
    " * Serving Flask app 'main' (lazy loading)\n",
    " * Environment: production\n",
    "   WARNING: This is a development server. Do not use it in a production deployment.\n",
    "   Use a production WSGI server instead.\n",
    " * Debug mode: on\n",
    " * Running on http://127.0.0.1:5000 (Press CTRL+C to quit)\n",
    " * Restarting with stat\n",
    " * Debugger is active!\n",
    " * Debugger PIN: 710-199-540"
   ]
  },
  {
   "attachments": {},
   "cell_type": "markdown",
   "metadata": {},
   "source": [
    "7. Build your site: `docker-compose up -d --build`\n",
    "\n",
    "8. Test your site: `curl localhost:8---` (replace '8---' with your port number)\n",
    "> This should show you all the html content of your site. Double check some things that are unique to your site to ensure your port is accurate and working.\n",
    "\n",
    "If all runs smooth, continue to [DNS & NGINX Setup](https://azeem-khan1.github.io/fastpages-project/week22/deploymentGuide#DNS-&-NGINX-setup)"
   ]
  },
  {
   "attachments": {},
   "cell_type": "markdown",
   "metadata": {},
   "source": [
    "## DNS & NGINX Setup\n",
    "\n",
    "> Follow [Jeffrey's guide to duckdns](https://moonpiedumplings.github.io/quartotest/posts/duckdns/) (public IP can be found below the terminal)\n",
    "\n",
    "### Nginx setup in AWS terminal\n",
    "\n",
    "1. Navigate to nginx: `cd /etc/nginx/sites-available`\n",
    "\n",
    "2. Create an nginx config file: `sudo nano yourUniqueName`\n",
    "\n",
    "3. Use the format below to write into your config file"
   ]
  },
  {
   "cell_type": "code",
   "execution_count": null,
   "metadata": {
    "vscode": {
     "languageId": "powershell"
    }
   },
   "outputs": [],
   "source": [
    "server {\n",
    "   listen 80;\n",
    "    listen [::]:80;\n",
    "    server_name -----.duckdns.org; # CHANGE SERVER NAME TO YOUR REGISTERED DOMAIN\n",
    "    location / {\n",
    "        proxy_pass http://localhost:8---; # CHANGE PORT TO YOUR UNIQUE PORT\n",
    "        # Simple requests\n",
    "        if ($request_method ~* “(GET|POST|PUT|DELETE)“) { # Customize Request methods based on your needs\n",
    "                add_header “Access-Control-Allow-Origin”  *;\n",
    "        }\n",
    "        # Preflighted requests\n",
    "        if ($request_method = OPTIONS ) {\n",
    "                add_header “Access-Control-Allow-Origin”  *;\n",
    "                add_header “Access-Control-Allow-Methods” “GET, POST, PUT, DELTE, OPTIONS, HEAD”; # Make sure the request methods above match here\n",
    "                add_header “Access-Control-Allow-Headers” “Authorization, Origin, X-Requested-With, Content-Type, Accept”;\n",
    "                return 200;\n",
    "        }\n",
    "    }\n",
    "}"
   ]
  },
  {
   "attachments": {},
   "cell_type": "markdown",
   "metadata": {},
   "source": [
    "4. To save changes, `ctl X` or `cmd X`, then `y`, then `enter`\n",
    "\n",
    "5. Create a symbolic link: `cd /etc/nginx/sites-enabled`, then `ln -s /etc/nginx/sites-available/yourUniqueName /etc/nginx/sites-enabled` (change yourUniqueName to your nginx config file name)\n",
    "\n",
    "6. Validate by running: `sudo nginx -t`\n",
    "\n",
    "7. Restart nginx by running `sudo systemctl restart nginx`\n",
    "\n",
    "8. Test your domain name in browser now (only http://, not https://)\n",
    "\n",
    "If all runs smoothly, continue to [Certbot config](https://azeem-khan1.github.io/fastpages-project/week22/deploymentGuide#Certbot-Config)"
   ]
  },
  {
   "attachments": {},
   "cell_type": "markdown",
   "metadata": {},
   "source": [
    "## Certbot Config\n",
    "\n",
    "> Certbot allows your site to get a certificate in order for the http request to be secure (https)\n",
    "\n",
    "1. Run commands below"
   ]
  },
  {
   "cell_type": "code",
   "execution_count": null,
   "metadata": {
    "vscode": {
     "languageId": "powershell"
    }
   },
   "outputs": [],
   "source": [
    "cd ~\n",
    "\n",
    "sudo snap install core; sudo snap refresh core\n",
    "sudo snap install --classic certbot\n",
    "sudo ln -s /snap/bin/certbot /usr/bin/certbot\n",
    "\n",
    "sudo certbot --nginx"
   ]
  },
  {
   "attachments": {},
   "cell_type": "markdown",
   "metadata": {},
   "source": [
    "**Ideal outcome is shown below**"
   ]
  },
  {
   "cell_type": "code",
   "execution_count": null,
   "metadata": {
    "vscode": {
     "languageId": "powershell"
    }
   },
   "outputs": [],
   "source": [
    "Saving debug log to /var/log/letsencrypt/letsencrypt.log\n",
    "Plugins selected: Authenticator nginx, Installer nginx\n",
    "\n",
    "Which names would you like to activate HTTPS for?\n",
    "- - - - - - - - - - - - - - - - - - - - - - - - - - - - - - - - - - - - - - - -\n",
    "1: coolcodersjava.pw\n",
    "2: www.coolcodersjava.pw\n",
    "3: ajarcade.duckdns.org\n",
    "4: flowhealth.duckdns.org\n",
    "5: goatedgroup.duckdns.org\n",
    "6: jasj-inventory.duckdns.org\n",
    "7: recipies.duckdns.org\n",
    "8: ssvgcars.duckdns.org\n",
    "9: userapi.duckdns.org\n",
    "10: fr0st.ml\n",
    "11: www.fr0st.ml\n",
    "12: agenda.nighthawkcodescrums.gq\n",
    "13: coolcoders.nighthawkcodescrums.gq\n",
    "14: escaperoom.nighthawkcodescrums.gq\n",
    "15: frost.nighthawkcodescrums.gq\n",
    "16: jame.nighthawkcodescrums.gq\n",
    "17: lawnmowers.nighthawkcodescrums.gq\n",
    "18: loopholegames.nighthawkcodescrums.gq\n",
    "19: musicmania.nighthawkcodescrums.gq\n",
    "20: nba.nighthawkcodescrums.gq\n",
    "21: sadv.nighthawkcodescrums.gq\n",
    "22: ssjn.nighthawkcodescrums.gq\n",
    "23: stocks.nighthawkcodescrums.gq\n",
    "24: striver.nighthawkcodescrums.gq\n",
    "25: tngc.nighthawkcodescrums.gq\n",
    "26: white.nighthawkcodescrums.gq\n",
    "27: workwatch.nighthawkcodescrums.gq\n",
    "28: cars.nighthawkcodingsociety.com\n",
    "29: dolphin.nighthawkcodingsociety.com\n",
    "30: saakd.nighthawkcodingsociety.com\n",
    "31: pythonalflask.tk\n",
    "32: www.pythonalflask.tk\n",
    "33: teambrobro.tk\n",
    "34: www.teambrobro.tk\n",
    "35: teamcheeseatimetime.tk\n",
    "36: www.teamcheeseatimetime.tk\n",
    "- - - - - - - - - - - - - - - - - - - - - - - - - - - - - - - - - - - - - - - -\n",
    "Select the appropriate numbers separated by commas and/or spaces, or leave input\n",
    "blank to select all options shown (Enter 'c' to cancel): # ENTER YOUR CORRESPONDING NUMBER\n",
    "\n",
    "Cert not yet due for renewal\n",
    "\n",
    "You have an existing certificate that has exactly the same domains or certificate name you requested and isn't close to expiry.\n",
    "(ref: /etc/letsencrypt/renewal/nighthawkcodingsociety.com-0001.conf)\n",
    "\n",
    "What would you like to do?\n",
    "- - - - - - - - - - - - - - - - - - - - - - - - - - - - - - - - - - - - - - - -\n",
    "1: Attempt to reinstall this existing certificate\n",
    "2: Renew & replace the cert (limit ~5 per 7 days)\n",
    "- - - - - - - - - - - - - - - - - - - - - - - - - - - - - - - - - - - - - - - -\n",
    "Select the appropriate number [1-2] then [enter] (press 'c' to cancel): 2\n",
    "Renewing an existing certificate\n",
    "Performing the following challenges:\n",
    "http-01 challenge for nighthawkcodingsociety.com\n",
    "http-01 challenge for csa.nighthawkcodingsociety.com\n",
    "http-01 challenge for cso.nighthawkcodingsociety.com\n",
    "http-01 challenge for flm.nighthawkcodingsociety.com\n",
    "Waiting for verification...\n",
    "Cleaning up challenges\n",
    "Deploying Certificate to VirtualHost /etc/nginx/sites-enabled/nighthawk_society\n",
    "Deploying Certificate to VirtualHost /etc/nginx/sites-enabled/nighthawk_csa\n",
    "Deploying Certificate to VirtualHost /etc/nginx/sites-enabled/nighthawk_csp\n",
    "Deploying Certificate to VirtualHost /etc/nginx/sites-enabled/nighthawk_flm\n",
    "\n",
    "Please choose whether or not to redirect HTTP traffic to HTTPS, removing HTTP access.\n",
    "- - - - - - - - - - - - - - - - - - - - - - - - - - - - - - - - - - - - - - - -\n",
    "1: No redirect - Make no further changes to the webserver configuration.\n",
    "2: Redirect - Make all requests redirect to secure HTTPS access. Choose this for\n",
    "new sites, or if you're confident your site works on HTTPS. You can undo this\n",
    "change by editing your web server's configuration.\n",
    "- - - - - - - - - - - - - - - - - - - - - - - - - - - - - - - - - - - - - - - -\n",
    "Select the appropriate number [1-2] then [enter] (press 'c' to cancel): 2\n",
    "Traffic on port 80 already redirecting to ssl in /etc/nginx/sites-enabled/nighthawk_society\n",
    "Traffic on port 80 already redirecting to ssl in /etc/nginx/sites-enabled/nighthawk_csa\n",
    "Traffic on port 80 already redirecting to ssl in /etc/nginx/sites-enabled/nighthawk_csp\n",
    "Traffic on port 80 already redirecting to ssl in /etc/nginx/sites-enabled/nighthawk_flm\n",
    "\n",
    "- - - - - - - - - - - - - - - - - - - - - - - - - - - - - - - - - - - - - - - -\n",
    "Your existing certificate has been successfully renewed, and the new certificate\n",
    "has been installed.\n",
    "\n",
    "The new certificate covers the following domains:\n",
    "https://nighthawkcodingsociety.com, \n",
    "https://csa.nighthawkcodingsociety.com, \n",
    "https://csp.nighthawkcodingsociety.com, and\n",
    "https://flm.nighthawkcodingsociety.com,\n",
    "\n",
    "You should test your configuration at:\n",
    "https://www.ssllabs.com/ssltest/analyze.html?d=nighthawkcodingsociety.com\n",
    "https://www.ssllabs.com/ssltest/analyze.html?d=csa.nighthawkcodingsociety.com\n",
    "https://www.ssllabs.com/ssltest/analyze.html?d=csp.nighthawkcodingsociety.com\n",
    "https://www.ssllabs.com/ssltest/analyze.html?d=flm.nighthawkcodingsociety.com\n",
    "- - - - - - - - - - - - - - - - - - - - - - - - - - - - - - - - - - - - - - - -\n",
    "\n",
    "IMPORTANT NOTES:\n",
    " - Congratulations! Your certificate and chain have been saved at:\n",
    "   /etc/letsencrypt/live/nighthawkcodingsociety.com-0001/fullchain.pem\n",
    "   Your key file has been saved at:\n",
    "   /etc/letsencrypt/live/nighthawkcodingsociety.com-0001/privkey.pem\n",
    "   Your cert will expire on 2022-03-06. To obtain a new or tweaked\n",
    "   version of this certificate in the future, simply run certbot again\n",
    "   with the \"certonly\" option. To non-interactively renew *all* of\n",
    "   your certificates, run \"certbot renew\"\n",
    " - If you like Certbot, please consider supporting our work by:\n",
    "\n",
    "   Donating to ISRG / Let's Encrypt:   https://letsencrypt.org/donate\n",
    "   Donating to EFF:                    https://eff.org/donate-le"
   ]
  },
  {
   "attachments": {},
   "cell_type": "markdown",
   "metadata": {},
   "source": [
    "## Updating after changing code in Repository\n",
    "\n",
    "1. Navigate to your repo: `cd ~/yourRepo`\n",
    "\n",
    "2. Run `docker-compose ps` or `sudo docker-compose ps`\n",
    "> It should show your docker container state as 'up' with correct port\n",
    "\n",
    "3. `sudo docker ps` to check container and image\n",
    "\n",
    "4. `git status` to see if you have any changes to your repo in AWS\n",
    "\n",
    "5. `sudo docker-compose kill`\n",
    "> run ps on docker-compose and docker and you should observe changes\n",
    "> Server should be down (502 Bad Gateway in browser)\n",
    "\n",
    "6. `git pull`\n",
    "\n",
    "7. Rebuild your docker container: `sudo docker-compose up -d --build`\n",
    "\n",
    "8. Navigate to `cd /etc/nginx/sites-available` and restart nginx: `sudo systemctl restart nginx`\n",
    "\n",
    "9. `cd ~/yourRepo` and try to curl: `curl localhost:8---` (replace '8---' with your port number)\n",
    "> If your changes were visible on index.html, you should see them here\n",
    "\n",
    "10. Test domain in browser (server should no longer be down)\n",
    "\n",
    "11. Run `docker-compose ps` or `sudo docker-compose ps` to check that docker is up\n",
    "\n",
    "12. `sudo docker ps` to check container and image\n",
    "\n",
    "If all went smooth, update is complete."
   ]
  },
  {
   "attachments": {},
   "cell_type": "markdown",
   "metadata": {},
   "source": [
    "## Congratulations!\n",
    "\n",
    "Congratulations on deploying your site with AWS! A special thanks to Mr. Mortensen and Jeffrey Fonseca for helping put this together."
   ]
  }
 ],
 "metadata": {
  "kernelspec": {
   "display_name": "base",
   "language": "python",
   "name": "python3"
  },
  "language_info": {
   "codemirror_mode": {
    "name": "ipython",
    "version": 3
   },
   "file_extension": ".py",
   "mimetype": "text/x-python",
   "name": "python",
   "nbconvert_exporter": "python",
   "pygments_lexer": "ipython3",
   "version": "3.9.12"
  },
  "orig_nbformat": 4,
  "vscode": {
   "interpreter": {
    "hash": "ae7fc39f2ab8b5e6c06b0790456dedf53b90368befc1590efd56e212a30b3916"
   }
  }
 },
 "nbformat": 4,
 "nbformat_minor": 2
}
