{
 "cells": [
  {
   "cell_type": "markdown",
   "metadata": {},
   "source": [
    "# Student Teaching Lesson 3.5 - 3.7\n",
    "> Student Teaching Notes and Homework (3.5 - 3.7)\n",
    "\n",
    "- layout: default\n",
    "- comments: true\n",
    "- toc: true\n",
    "- permalink: /lesson5-6-7\n",
    "- categories: [Student Teaching Portfolio]"
   ]
  },
  {
   "cell_type": "markdown",
   "metadata": {},
   "source": [
    "# 3.5 to 3.7\n",
    "## Booleans\n",
    "- Data type with 2 possible values\n",
    "    - True\n",
    "    - False\n",
    "- Similar to binary\n",
    "\n",
    "## Conditionals\n",
    "- selection uses a condition that evaluates to true or false\n",
    "- Algorithm is a finite set of instructions that accomplish a specific task\n",
    "- Conditional Statements\n",
    "    - Also known as \"if\" and/or \"if else\" statements\n",
    "\n",
    "## Nested Conditionals\n",
    "- Conditionals in the \"else\" portion of a conditional\n",
    "    - Inception with conditionals\n",
    "\n",
    "### Participation (Nested Conditionals)\n",
    "\n",
    "-Calculate the total sum of two numbers, if it is equal to 200, print 200, if otherwise, print the sum."
   ]
  },
  {
   "cell_type": "code",
   "execution_count": null,
   "metadata": {},
   "outputs": [
    {
     "name": "stdout",
     "output_type": "stream",
     "text": [
      "147  +  153 =/= 200\n"
     ]
    }
   ],
   "source": [
    "num1 = 147\n",
    "num2 = 153\n",
    "sum = num1 + num2\n",
    "\n",
    "if sum == 200:\n",
    "    print(num1, \" + \", num2, \"= 200\")\n",
    "else:\n",
    "    print(num1, \" + \", num2, \"=/= 200\")"
   ]
  },
  {
   "cell_type": "markdown",
   "metadata": {},
   "source": [
    "\n",
    "### Analyzing Code Walkthrough\n",
    "- Without executing the code, find what the output should be, given the already assigned variable(s)"
   ]
  },
  {
   "cell_type": "code",
   "execution_count": null,
   "metadata": {
    "vscode": {
     "languageId": "javascript"
    }
   },
   "outputs": [],
   "source": [
    "score = 82\n",
    "if (score >= 90):\n",
    "{\n",
    "    console.log(\"You got an A, congrats!\")\n",
    "}\n",
    "else\n",
    "    {\n",
    "        if (score >= 75)\n",
    "        {\n",
    "            console.log(\"Please come to retake up to a 90 next week at tutorial!\")\n",
    "            # This will be the output^^^^ (because the score is < 90 and > 75)\n",
    "        }\n",
    "        else\n",
    "            {\n",
    "                console.log(\"You have detention!\")\n",
    "            }\n",
    "    }"
   ]
  },
  {
   "cell_type": "code",
   "execution_count": null,
   "metadata": {
    "vscode": {
     "languageId": "javascript"
    }
   },
   "outputs": [],
   "source": [
    "protein = 25\n",
    "carbs = 36\n",
    "sugar = 11\n",
    "if (carbs >= 55 || protein <= 20 || sugar >= 15)\n",
    "{\n",
    "    console.log(\"Your lunch is too unhealthy, please pick a new one\")\n",
    "}\n",
    "else\n",
    "{\n",
    "    if (carbs < 35 || protein < 25)\n",
    "    {\n",
    "    console.log (\"This lunch is alright but try to add some more carbs or protein\")\n",
    "    }\n",
    "    else \n",
    "    {\n",
    "    if (sugar >= 11)\n",
    "    {\n",
    "    console.log (\"Looks great but lets see if we can cut down on sugar, we don't want diabetes!\")\n",
    "    # This will be the output^^^^\n",
    "    }\n",
    "    else\n",
    "    {\n",
    "        console.log (\"Amazing, you created a healthy lunch!!!\")\n",
    "    }\n",
    "    }\n",
    "}"
   ]
  },
  {
   "cell_type": "markdown",
   "metadata": {},
   "source": [
    "## Writing Nested Code Activity\n",
    "1. Write a program that fits these conditions using nested conditionals:\n",
    "    - If a person has at least 8 hours, they are experienced\n",
    "    - If a person is experienced their salary is 90k, if they have ten hours or above their salary 150k\n",
    "    - If a person is inexperienced their salary is always 50k\n",
    "    - print the salary of the person at the end and whether they are experienced or not"
   ]
  },
  {
   "cell_type": "code",
   "execution_count": 15,
   "metadata": {},
   "outputs": [
    {
     "name": "stdout",
     "output_type": "stream",
     "text": [
      "You are experienced and your salary is 150k\n"
     ]
    }
   ],
   "source": [
    "hours = 10\n",
    "\n",
    "if (hours < 8):\n",
    "    print(\"You are inexperienced and your salary is 50k\")\n",
    "else:\n",
    "    if (hours < 10):\n",
    "        print(\"You are experienced and your salary is 90k\")\n",
    "    else:\n",
    "        print(\"You are experienced and your salary is 150k\")"
   ]
  },
  {
   "cell_type": "markdown",
   "metadata": {},
   "source": [
    "## Hacks Assignments:\n",
    "**Conditionals**:\n",
    "\n",
    "- Write a program that fits these conditions using nested conditionals:\n",
    "    - If the product is expired, print \"this product is no good\"\n",
    "    - If the cost is above 50 dollars, and the product isn't expired, print \"this product is too expensive\"\n",
    "    - If the cost is 25 dollars but under 50, and the product isn't expired, print \"this is a regular product\"\n",
    "    - If the cost is under 25 dollars, print \"this is a cheap product\"\n",
    "\n",
    "**Boolean/Conditionals**:\n",
    "- Create a multiple choice quiz that\n",
    "    - uses Boolean expressions\n",
    "    - uses Logical operators\n",
    "    - uses Conditional statements\n",
    "    - prompts quiz-taker with multiple options (only one can be right)\n",
    "    - has at least 3 questions\n",
    "- Points will be awarded for creativity, intricacy, and how well Boolean/Binary concepts have been intertwined\n",
    "\n",
    "## Hacks Submissions"
   ]
  },
  {
   "cell_type": "code",
   "execution_count": 11,
   "metadata": {},
   "outputs": [
    {
     "name": "stdout",
     "output_type": "stream",
     "text": [
      "This product is too expensive\n"
     ]
    }
   ],
   "source": [
    "# CONDITIONALS\n",
    "\n",
    "# Let the user type in a price\n",
    "\n",
    "expired = input(\"Answer yes or no: Is the product expired?\").lower()\n",
    "\n",
    "if expired == \"yes\":\n",
    "    expired = True\n",
    "elif expired == \"no\":\n",
    "    expired = False\n",
    "else:\n",
    "    print(\"Answer with yes or no\")\n",
    "\n",
    "cost = int(input(\"Type in the cost of your product in dollars (don't put units)\"))\n",
    "\n",
    "# Check if input is valid\n",
    "if (cost < 0):\n",
    "    print(\"Your price must be a positive integer\")\n",
    "\n",
    "\n",
    "if (expired == True): \n",
    "    print(\"This product is no good.\")\n",
    "else: \n",
    "    if (cost > 50) and (expired == False):\n",
    "        print(\"This product is too expensive\")\n",
    "    else:\n",
    "        if (cost > 25) and (cost <= 50) and (expired == False):\n",
    "            print(\"This is a regular product\")\n",
    "        else:\n",
    "            if (cost <= 25):\n",
    "                print(\"This is a cheap product\")"
   ]
  },
  {
   "cell_type": "code",
   "execution_count": 2,
   "metadata": {},
   "outputs": [
    {
     "name": "stdout",
     "output_type": "stream",
     "text": [
      "Congrats you got a: 3/4 That's a 75.0%, a C\n",
      "For question #4, \"Is Azeem cool?\", you said \"n\", but the correct answer was \"y\"\n"
     ]
    }
   ],
   "source": [
    "# QUIZ\n",
    "\n",
    "score = 0\n",
    "num = 0\n",
    "incorrect = []\n",
    "q = [\"Should I do my homework?\", \n",
    "    \"Should Piday be a National Holiday?\", \n",
    "    \"Is the Earth flat?\", \n",
    "    \"Is Azeem cool?\"]\n",
    "a = [\"n\", \"y\", \"n\", \"y\"]\n",
    "\n",
    "for i in q:\n",
    "    answer = input(i + \" Y/N\").lower()\n",
    "    if answer.lower() == a[num]:\n",
    "        score += 1\n",
    "        num += 1\n",
    "    else:\n",
    "        incorrect.append(answer + i)\n",
    "\n",
    "percent = score/len(q)*100\n",
    "letters = [\"A\", \"B\", \"C\", \"D\", \"F\"]\n",
    "percents = [100, 90, 80, 70, 60, 0]\n",
    "\n",
    "\n",
    "for i in range(len(percents) - 1):\n",
    "    if percents[i] >= percent > percents[i+1]:\n",
    "        letter = letters[i]\n",
    "        break\n",
    "\n",
    "\n",
    "print(\"Congrats you got a: \" + str(score) + \"/\" + str(len(q)) + \" That's a \" + str(percent) +\"%, a \" + letter)\n",
    "for i in range(len(incorrect)):\n",
    "    print(\"For question #\" + str(q.index(incorrect[i][1:]) + 1) + \", \\\"\" + incorrect[i][1:] + \"\\\", you said \\\"\" + incorrect[i][:1] + \"\\\", but the correct answer was \\\"\" + a[q.index(incorrect[i][1:])] + \"\\\"\")"
   ]
  }
 ],
 "metadata": {
  "kernelspec": {
   "display_name": "Python 3.9.12 ('base')",
   "language": "python",
   "name": "python3"
  },
  "language_info": {
   "codemirror_mode": {
    "name": "ipython",
    "version": 3
   },
   "file_extension": ".py",
   "mimetype": "text/x-python",
   "name": "python",
   "nbconvert_exporter": "python",
   "pygments_lexer": "ipython3",
   "version": "3.9.12"
  },
  "orig_nbformat": 4,
  "vscode": {
   "interpreter": {
    "hash": "ae7fc39f2ab8b5e6c06b0790456dedf53b90368befc1590efd56e212a30b3916"
   }
  }
 },
 "nbformat": 4,
 "nbformat_minor": 2
}
