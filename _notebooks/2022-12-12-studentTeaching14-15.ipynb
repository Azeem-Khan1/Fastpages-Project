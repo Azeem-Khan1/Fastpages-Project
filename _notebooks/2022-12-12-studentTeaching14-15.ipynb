{
 "cells": [
  {
   "attachments": {},
   "cell_type": "markdown",
   "metadata": {},
   "source": [
    "# Student Teaching Lesson 3.14 & 3.15\n",
    "> Student Teaching Notes and Homework (3.14 - 3.15)\n",
    "\n",
    "- layout: default\n",
    "- comments: true\n",
    "- toc: true\n",
    "- permalink: /lesson14-15\n",
    "- categories: [Student Teaching Portfolio]"
   ]
  },
  {
   "cell_type": "markdown",
   "metadata": {},
   "source": [
    "<style>\n",
    "    .coolCode {\n",
    "        color: #FFFFFF;\n",
    "        font-family: monospace;\n",
    "        border: 1px solid #404040;\n",
    "        border-radius: 3px;\n",
    "        background-color: #212121;\n",
    "        padding: 1px 5px;\n",
    "        font-size: 20px\n",
    "    }\n",
    "</style>"
   ]
  },
  {
   "cell_type": "markdown",
   "metadata": {},
   "source": [
    "### wget https://raw.githubusercontent.com/aidenhuynh/CS_Swag/master/_notebooks/2022-11-30-randomvalues.ipynb\n",
    "\n",
    "# Libraries\n",
    "\n",
    "* A library is a collection of precompiled codes that can be used later on in a program for some specific well-defined operations. \n",
    "* These precompiled codes can be referred to as modules. Each module contains bundles of code that can be used repeatedly in different programs.\n",
    "* A library may also contain documentation, configuration data, message templates, classes, and values, etc.\n",
    "\n",
    "### Why are libraries important?\n",
    "* Using Libraries makes Python Programming simpler and convenient for the programmer. \n",
    "* One example would be through looping and iteration, as we don’t need to write the same code again and again for different programs. \n",
    "* Python libraries play a very vital role in fields of Machine Learning, Data Science, Data Visualization, etc.\n",
    "\n",
    "### A few libraries that simplify coding processes:\n",
    "* **Pillow** allows you to work with images.\n",
    "* **Tensor Flow** helps with data automation and monitors performance.\n",
    "* **Matplotlib** allows you to make 2D graphs and plots.\n",
    "\n",
    "The AP Exam Refrence Sheet itself is a library!\n",
    "![Screenshot 2022-12-11 221853](https://user-images.githubusercontent.com/51098969/206974627-af98327c-d95d-4459-be67-cbaa3faaaa98.jpg)\n",
    "\n",
    "## Hacks:\n",
    "Research two other Python Libraries NOT DISCUSSED DURING LESSON and make a markdown post, explaining their function and how it helps programmers code.\n",
    "\n",
    "### API’s\n",
    "* An Application Program Interface, or API, contains specific direction for how the procedures in a library behave and can be used. \n",
    "* An API acts as a gateway for the imported procedures from a library to interact with the rest of your code.\n",
    "\n",
    "### Activity: Walkthrough with NumPy\n",
    "Install NumPy on VSCode:\n",
    "Open New Terminal In VSCode:\n",
    "pip3 install --upgrade pip\n",
    "pip install numpy \n",
    " \n",
    "REMEMBER: When running library code cells use Python Interpreter Conda (Version 3.9.12)\n",
    " \n",
    "### Example of using NumPy for arrays:"
   ]
  },
  {
   "cell_type": "code",
   "execution_count": 1,
   "metadata": {},
   "outputs": [
    {
     "name": "stdout",
     "output_type": "stream",
     "text": [
      "[[1 2 3]\n",
      " [4 5 6]\n",
      " [7 8 9]]\n"
     ]
    }
   ],
   "source": [
    "import numpy as np\n",
    "new_matrix = np.array([[1, 2, 3],[4, 5, 6],[7, 8, 9]])\n",
    " \n",
    "print (new_matrix)"
   ]
  },
  {
   "cell_type": "markdown",
   "metadata": {},
   "source": [
    "#### Example of using NumPy for derivatives:"
   ]
  },
  {
   "cell_type": "code",
   "execution_count": 27,
   "metadata": {},
   "outputs": [
    {
     "name": "stdout",
     "output_type": "stream",
     "text": [
      "Polynomial function, f(x):  \n",
      "2 x + 1\n",
      "Derivative, f(x)'=  \n",
      "2\n",
      "When x=5  f(x)'= 2\n"
     ]
    }
   ],
   "source": [
    "import numpy as np\n",
    " \n",
    "# defining polynomial function\n",
    "var = np.poly1d([2, 1])\n",
    "print(\"Polynomial function, f(x):\", var)\n",
    " \n",
    "# calculating the derivative\n",
    "derivative = var.deriv()\n",
    "print(\"Derivative, f(x)'=\", derivative)\n",
    " \n",
    "# calculates the derivative of after\n",
    "# given value of x\n",
    "print(\"When x=5  f(x)'=\", derivative(5))"
   ]
  },
  {
   "cell_type": "markdown",
   "metadata": {},
   "source": [
    "## Random Values\n",
    "\n",
    "* Random number generation (RNG) produces a random number (crazy right?)\n",
    "    - This means that a procedure with RNG can return different values even if the parameters (inputs) do not change\n",
    "* CollegeBoard uses <code class=\"coolCode\">RANDOM(A, B)</code>, to return an integer between integers <code class=\"coolCode\">A</code> and <code class=\"coolCode\">B</code>.\n",
    "    - RANDOM(1, 10) can output 1, 2, 3, 4, 5, 6, 7, 8, 9, or 10\n",
    "    - In Python, this would be <code class=\"coolCode\">random.randint(A, B)</code>, after importing Python's \"random\" library (<code class=\"coolCode\">import random</code>)\n",
    "    - JavaScript's works a little differently, with <code class=\"coolCode\">Math.random()</code> returning a value between 0 and 1.\n",
    "        - To match Python and CollegeBoard, you could make a procedure like [this](https://stackoverflow.com/a/7228322)\n",
    "\n",
    "#### CollegeBoard Example: What is the possible range of values for *answ3*\n",
    "![CollegeBoard](https://i.ibb.co/Wt90Hbz/Screen-Shot-2022-12-12-at-7-27-58-AM.png)\n"
   ]
  },
  {
   "cell_type": "markdown",
   "metadata": {},
   "source": [
    "#### Convert the following procedure to Python, then determine the range of outputs if n = 5.\n",
    "<pre>\n",
    "<font color=white>\n",
    "PROCEDURE Dice(n)\n",
    "\tsum ← 0\n",
    "\tREPEAT UNTIL n = 0\n",
    "\t\tsum ← sum + RANDOM(1, 6)\n",
    "\t\tn ← n - 1\n",
    "\tRETURN sum\n",
    "</font>\n",
    "</pre>\n"
   ]
  },
  {
   "cell_type": "code",
   "execution_count": 28,
   "metadata": {},
   "outputs": [
    {
     "data": {
      "text/plain": [
       "17"
      ]
     },
     "execution_count": 28,
     "metadata": {},
     "output_type": "execute_result"
    }
   ],
   "source": [
    "import random # Fill in the blank\n",
    "\n",
    "def Dice(n):\n",
    "    sum = 0\n",
    "    while n != 0:\n",
    "        sum = sum + random.randint(1, 6)\n",
    "        n = n - 1\n",
    "    return sum\n",
    "    \n",
    "Dice(5) # Will output a range of 5 to 30"
   ]
  },
  {
   "cell_type": "markdown",
   "metadata": {},
   "source": [
    "## Homework\n",
    "1. Write a procedure that generates *n* random numbers, then sorts those numbers into lists of even and odd numbers (JS or Python, Python will be easier).\n",
    "\n",
    "2. Using NumPy and only coding in python cell, find the answer to the following questions:\n",
    "    a. What is the derivative of 2x^5 - 6x^2 + 24x?\n",
    "    b. What is the derivative of (13x^4 + 4x^2) / 2 when x = 9? \n",
    "\n",
    "3. Suppose you have a group of 10 dogs and 10 cats, and you want to create a random order for them. Show how random number generation could be used to create this random order."
   ]
  },
  {
   "cell_type": "code",
   "execution_count": 37,
   "metadata": {},
   "outputs": [
    {
     "name": "stdout",
     "output_type": "stream",
     "text": [
      "[28, 36, 4, -2, 18, 30, 22, -14, 20, 8, 2, -12]\n",
      "[-11, 5, 37, 33, 1, 9, -13, 9]\n"
     ]
    }
   ],
   "source": [
    "# 1\n",
    "\n",
    "import random\n",
    "\n",
    "# Generate a list of n random numbers\n",
    "n = int(input(\"How many numbers would you like to generate?\"))\n",
    "a = int(input(\"What is the minimum number you would like to generate?\"))\n",
    "b = int(input(\"What is the maximum number you would like to generate?\"))\n",
    "numbers = [random.randint(a, b) for _ in range(n)]\n",
    "\n",
    "# Sort the numbers into even and odd lists\n",
    "evens = []\n",
    "odds = []\n",
    "for number in numbers:\n",
    "    if number % 2 == 0:\n",
    "        evens.append(number)\n",
    "    else:\n",
    "        odds.append(number)\n",
    "\n",
    "# Print the even and odd lists\n",
    "print(evens)\n",
    "print(odds)\n",
    "            \n"
   ]
  },
  {
   "cell_type": "code",
   "execution_count": 47,
   "metadata": {},
   "outputs": [
    {
     "name": "stdout",
     "output_type": "stream",
     "text": [
      "The derivative of \n",
      "   5     2\n",
      "2 x - 6 x + 24 x\n",
      "    4\n",
      "10 x - 12 x + 24\n"
     ]
    }
   ],
   "source": [
    "# 2a\n",
    "\n",
    "import numpy as np\n",
    "\n",
    "# Define the polynomial as a NumPy array\n",
    "poly = np.poly1d([2, 0, 0, -6, 24, 0])\n",
    "\n",
    "# Compute the derivative of the polynomial\n",
    "derivative = poly.deriv()\n",
    "\n",
    "# Print the result\n",
    "print(\"The derivative of \\n\" + str(poly) + \"\\n\" + str(derivative))\n",
    "\n"
   ]
  },
  {
   "cell_type": "code",
   "execution_count": 34,
   "metadata": {},
   "outputs": [
    {
     "name": "stdout",
     "output_type": "stream",
     "text": [
      "The derivative of \n",
      "    4     2\n",
      "13 x + 4 x\n",
      " ------ \n",
      "2\n",
      "is: \n",
      "    3\n",
      "26 x + 4 x\n",
      "\n",
      "When x = 9, the derivative is \n",
      "18990\n"
     ]
    }
   ],
   "source": [
    "# 2b\n",
    "\n",
    "import numpy as np\n",
    "\n",
    "# Define the polynomial using the poly1d class (numerator)\n",
    "n = np.poly1d([13, 0, 4, 0, 0])\n",
    "\n",
    "# Define the polynomial using the poly1d class (denominator)\n",
    "d = np.poly1d([2])\n",
    "\n",
    "# Compute the derivative of the polynomial using the deriv function and quotient rule\n",
    "derivative = ((d * n.deriv()) - (d.deriv() * n)) / 4\n",
    "\n",
    "# Evaluate the derivative at x = 9\n",
    "result = derivative(9)\n",
    "\n",
    "\n",
    "print(\"The derivative of \\n\" + str(n) + \"\\n ------\" + str(d) + \"\\nis: \\n\" + str(derivative))\n",
    "print(\"\\nWhen x = 9, the derivative is \\n\" + str(round(result)))\n"
   ]
  },
  {
   "cell_type": "code",
   "execution_count": 37,
   "metadata": {},
   "outputs": [
    {
     "name": "stdout",
     "output_type": "stream",
     "text": [
      "Cat 3\n",
      "Dog 1\n",
      "Dog 4\n",
      "Dog 7\n",
      "Dog 6\n",
      "Dog 10\n",
      "Dog 2\n",
      "Cat 7\n",
      "Cat 8\n",
      "Dog 5\n",
      "Cat 5\n",
      "Cat 10\n",
      "Cat 6\n",
      "Cat 4\n",
      "Cat 9\n",
      "Dog 3\n",
      "Cat 1\n",
      "Dog 9\n",
      "Dog 8\n",
      "Cat 2\n"
     ]
    }
   ],
   "source": [
    "# 3\n",
    "\n",
    "# Import the random module\n",
    "import random\n",
    "\n",
    "# Create a list of dogs and cats\n",
    "dogs = ['Dog 1', 'Dog 2', 'Dog 3', 'Dog 4', 'Dog 5', 'Dog 6', 'Dog 7', 'Dog 8', 'Dog 9', 'Dog 10']\n",
    "cats = ['Cat 1', 'Cat 2', 'Cat 3', 'Cat 4', 'Cat 5', 'Cat 6', 'Cat 7', 'Cat 8', 'Cat 9', 'Cat 10']\n",
    "\n",
    "# Create a list of tuples, where each tuple contains an animal and a random number\n",
    "animals = []\n",
    "for dog in dogs:\n",
    "    animals.append((dog, random.randint(1, 20)))\n",
    "for cat in cats:\n",
    "    animals.append((cat, random.randint(1, 20)))\n",
    "\n",
    "# Sort the list of tuples based on the random numbers\n",
    "animals.sort(key=lambda x: x[1])\n",
    "\n",
    "# Print the animals in the randomized order\n",
    "for animal in animals:\n",
    "    print(animal[0])"
   ]
  },
  {
   "attachments": {},
   "cell_type": "markdown",
   "metadata": {},
   "source": [
    "## Python Libraries Hacks\n",
    "\n",
    "### PyGame\n",
    "\n",
    "- Free and open-source library for making multimedia applications in Python\n",
    "\n",
    "- Provides a set of Python modules for writing games, animations, and other graphical programs\n",
    "\n",
    "- Built on top of the popular SDL (Simple DirectMedia Layer) library\n",
    "\n",
    "- Important for coders because it allows them to easily create graphical programs using Python\n",
    "\n",
    "- Useful for people who want to make games, animations, or other types of interactive programs that involve graphics and multimedia\n",
    "\n",
    "- It's free with no license required\n",
    "\n",
    "### Web2py\n",
    "\n",
    "- Full-stack web development framework for Python\n",
    "\n",
    "- Provides a wide range of features and tools for building and deploying web applications, including a web-based IDE, an object-relational mapper, and a web-based administrative interface\n",
    "\n",
    "- Useful because it makes it easy to build and deploy web applications quickly\n",
    "\n",
    "- Web-based IDE allows developers to edit, debug, and manage their applications from any web browser, and the object-relational mapper automatically generates the necessary SQL code for working with a database\n",
    "\n",
    "- Administrative interface allows developers to easily manage user accounts, access logs, and other administrative tasks\n",
    "\n",
    "- Great security features\n",
    "\n",
    "    - Includes built-in support for encryption and authentication, and it is designed to prevent common web vulnerabilities such as cross-site scripting and SQL injection attacks\n",
    "\n",
    "    - Open-source and free to use, making it a good choice for developers who want a powerful, easy-to-use web development framework without having to pay for a license"
   ]
  }
 ],
 "metadata": {
  "kernelspec": {
   "display_name": "base",
   "language": "python",
   "name": "python3"
  },
  "language_info": {
   "codemirror_mode": {
    "name": "ipython",
    "version": 3
   },
   "file_extension": ".py",
   "mimetype": "text/x-python",
   "name": "python",
   "nbconvert_exporter": "python",
   "pygments_lexer": "ipython3",
   "version": "3.9.12"
  },
  "orig_nbformat": 4,
  "vscode": {
   "interpreter": {
    "hash": "ae7fc39f2ab8b5e6c06b0790456dedf53b90368befc1590efd56e212a30b3916"
   }
  }
 },
 "nbformat": 4,
 "nbformat_minor": 2
}
