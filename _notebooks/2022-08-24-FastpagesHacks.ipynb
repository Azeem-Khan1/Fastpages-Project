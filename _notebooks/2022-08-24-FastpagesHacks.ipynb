{
 "cells": [
  {
   "cell_type": "markdown",
   "metadata": {},
   "source": [
    "# Fastpages Hacks\n",
    "> Hacks for week 1 fastpages.\n",
    "\n",
    "- toc: true \n",
    "- badges: true\n",
    "- comments: true\n",
    "- permalink: /hacks/fastpageshacks\n",
    "- categories: [hacks]"
   ]
  },
  {
   "cell_type": "markdown",
   "metadata": {},
   "source": [
    "## Progress (hacks)\n",
    "\n",
    "- I added a [notes](https://azeem-khan1.github.io/fastpages-project/notes) page with key terms included\n",
    "- I added a [purpose](https://azeem-khan1.github.io/fastpages-project/purpose/) page to describe the purpose of the site\n",
    "- I published a [notebook](https://azeem-khan1.github.io/fastpages-project/jupyter/2022/08/20/JupyterNotebookTest.html)\n",
    "- I published a [Markdown post](https://azeem-khan1.github.io/fastpages-project/markdown/2022/08/21/test-markdown-post.html) with an image (you can view the image if you go to the home page in the top left and scroll down a little.)\n",
    "- I published a [docx post](https://azeem-khan1.github.io/fastpages-project/2022/08/26/firstworddoc.html) using Google Docs and downloading it as a .docx"
   ]
  }
 ],
 "metadata": {
  "kernelspec": {
   "display_name": "Python 3.8.10 64-bit",
   "language": "python",
   "name": "python3"
  },
  "language_info": {
   "name": "python",
   "version": "3.8.10"
  },
  "orig_nbformat": 4,
  "vscode": {
   "interpreter": {
    "hash": "916dbcbb3f70747c44a77c7bcd40155683ae19c65e1c03b4aa3499c5328201f1"
   }
  }
 },
 "nbformat": 4,
 "nbformat_minor": 2
}
