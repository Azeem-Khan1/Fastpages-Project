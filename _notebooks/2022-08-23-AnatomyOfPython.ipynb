{
 "cells": [
  {
   "cell_type": "markdown",
   "metadata": {},
   "source": [
    "# Anatomy of Python (First Python post)\n",
    "> Notes on the anatomy of Python and answers to Hacks.\n",
    "\n",
    "- toc: true \n",
    "- badges: true\n",
    "- comments: true\n",
    "- permalink: /hacks/anatomyofpython\n",
    "- categories: [hacks]\n",
    "- tags: [python]"
   ]
  },
  {
   "cell_type": "markdown",
   "metadata": {},
   "source": [
    "## Hello to Python"
   ]
  },
  {
   "cell_type": "code",
   "execution_count": 1,
   "metadata": {},
   "outputs": [
    {
     "name": "stdout",
     "output_type": "stream",
     "text": [
      "Hello World!\n"
     ]
    }
   ],
   "source": [
    "print(\"Hello World!\")"
   ]
  },
  {
   "cell_type": "code",
   "execution_count": 10,
   "metadata": {},
   "outputs": [
    {
     "name": "stdout",
     "output_type": "stream",
     "text": [
      "Greetings\n"
     ]
    }
   ],
   "source": [
    "msg = \"Greetings\"\n",
    "print(msg)"
   ]
  },
  {
   "cell_type": "code",
   "execution_count": 16,
   "metadata": {},
   "outputs": [
    {
     "name": "stdout",
     "output_type": "stream",
     "text": [
      "Question: Name the Python output command mentioned in this lesson?\n",
      "Answer: Print\n",
      "Question: If you see many lines of code in order, what would College Board call it?\n",
      "Answer: Source Lines of Code (SLOC)\n",
      "Question: Describe a keyword used in Python to define a function?\n",
      "Answer: def\n"
     ]
    }
   ],
   "source": [
    "def question_and_answer(prompt):\n",
    "    print(\"Question: \" + prompt)\n",
    "    msg = input()\n",
    "    print(\"Answer: \" + msg)\n",
    "\n",
    "question_and_answer(\"Name the Python output command mentioned in this lesson?\")\n",
    "question_and_answer(\"If you see many lines of code in order, what would College Board call it?\")\n",
    "question_and_answer(\"Describe a keyword used in Python to define a function?\")"
   ]
  },
  {
   "cell_type": "markdown",
   "metadata": {},
   "source": [
    "## Answers to Hacks"
   ]
  },
  {
   "cell_type": "markdown",
   "metadata": {},
   "source": [
    "### Test running a Python file directly"
   ]
  },
  {
   "cell_type": "code",
   "execution_count": 3,
   "metadata": {
    "vscode": {
     "languageId": "html"
    }
   },
   "outputs": [
    {
     "data": {
      "text/html": [
       "<img src=\"https://raw.githubusercontent.com/Azeem-Khan1/fastpages-project/master/images/quizpy%20snip.jpg\"/>"
      ],
      "text/plain": [
       "<IPython.core.display.Image object>"
      ]
     },
     "execution_count": 3,
     "metadata": {},
     "output_type": "execute_result"
    }
   ],
   "source": [
    "from IPython.display import Image\n",
    "from IPython.core.display import HTML\n",
    "Image(url= \"https://raw.githubusercontent.com/Azeem-Khan1/fastpages-project/master/images/quizpy%20snip.jpg\")"
   ]
  },
  {
   "cell_type": "markdown",
   "metadata": {},
   "source": [
    "### Making a Quiz"
   ]
  },
  {
   "cell_type": "markdown",
   "metadata": {},
   "source": [
    "#### Pseudocode\n",
    "\n",
    "- PROCEDURE question_with_response (question)\n",
    "    - DISPLAY question\n",
    "    - response <-- input\n",
    "    - RETURN response\n",
    "- questions <-- 5\n",
    "- correct <-- 0\n",
    "- DISPLAY `Hello {user}, welcome to the Python quiz!`\n",
    "- DISPLAY `You will be asked {# of questions} questions`\n",
    "- DISPLAY `All answers are to be in lower case only`\n",
    "- rsp <-- question_with_response(question)\n",
    "- IF (rsp == answer)\n",
    "    - DISPLAY rsp is correct!\n",
    "        - correct <-- correct +1\n",
    "    - ELSE\n",
    "        - DISPLAY  rsp is incorrect :(\n",
    "- rsp <-- question_with_response(question)\n",
    "- IF (rsp == answer)\n",
    "    - DISPLAY rsp is correct!\n",
    "        - correct <-- correct +1\n",
    "    - ELSE\n",
    "        - DISPLAY  rsp is incorrect :(\n",
    "- rsp <-- question_with_response(question)\n",
    "- IF (rsp == answer)\n",
    "    - DISPLAY rsp is correct!\n",
    "        - correct <-- correct +1\n",
    "    - ELSE\n",
    "        - DISPLAY  rsp is incorrect :(\n",
    "- rsp <-- question_with_response(question)\n",
    "- IF (rsp == answer)\n",
    "    - DISPLAY rsp is correct!\n",
    "        - correct <-- correct +1\n",
    "    - ELSE\n",
    "        - DISPLAY  rsp is incorrect :(\n",
    "- rsp <-- question_with_response(question)\n",
    "- IF (rsp == answer)\n",
    "    - DISPLAY rsp is correct!\n",
    "        - correct <-- correct +1\n",
    "    - ELSE\n",
    "        - DISPLAY  rsp is incorrect :(\n",
    "- percent <-- str(round(correct/questions), 1)\n",
    "- DISPLAY `{user}, you scored {str(correct) / str(questions)}`\n",
    "- DISPLAY percent\n",
    "- DISPLAY `Hope you enjoyed!`"
   ]
  },
  {
   "cell_type": "code",
   "execution_count": 16,
   "metadata": {},
   "outputs": [
    {
     "name": "stdout",
     "output_type": "stream",
     "text": [
      "Hello, azeemk, welcome to the Python quiz!\n",
      "You will be asked 5 questions.\n",
      "All answers are to be in lower case only\n",
      "Question: What is it called when a value or function is assigned to an easy-to-remember word?\n",
      "variable is correct!\n",
      "Question: What command is used to include other functions that were previously developed?\n",
      "import is correct!\n",
      "Question: Each 'if' command contains an '_________' to determine a true or false condition?\n",
      "print is incorrect :(\n",
      "Question: What command is used to evaluate correct or incorrect response in this example?\n",
      "if is correct!\n",
      "Question: What is grouping a sequence of commands, often used repeatedly, called?\n",
      "procedural abstraction is correct!\n",
      "azeemk, you scored 4/5\n",
      "Congratulations! That's a(n) 80.0%!\n",
      "Hope you enjoyed!\n"
     ]
    }
   ],
   "source": [
    "import getpass, sys # import necessities\n",
    "\n",
    "\n",
    "def question_with_response(prompt): # function that allows for checking of correct response\n",
    "    print(\"Question: \" + prompt)\n",
    "    msg = input()\n",
    "    return msg\n",
    "\n",
    "questions = 5\n",
    "correct = 0\n",
    "\n",
    "print('Hello, ' + getpass.getuser() + \", welcome to the Python quiz!\") # introduction\n",
    "print(\"You will be asked \" + str(questions) + \" questions.\")\n",
    "print(\"All answers are to be in lower case only\")\n",
    "\n",
    "rsp = question_with_response(\"What is it called when a value or function is assigned to an easy-to-remember word?\") # define the question that is being asked\n",
    "if rsp == \"variable\": # if the user's answer matches the correct one, then...\n",
    "    print(rsp + \" is correct!\")\n",
    "    correct += 1 # add 1 point\n",
    "else: # if not...\n",
    "    print(rsp + \" is incorrect :(\")\n",
    "\n",
    "rsp = question_with_response(\"What command is used to include other functions that were previously developed?\") # define the question that is being asked\n",
    "if rsp == \"import\": # if the user's answer matches the correct one, then...\n",
    "    print(rsp + \" is correct!\")\n",
    "    correct += 1 # add 1 point\n",
    "else: # if not...\n",
    "    print(rsp + \" is incorrect :(\")\n",
    "\n",
    "rsp = question_with_response(\"Each 'if' command contains an '_________' to determine a true or false condition?\") # define the question that is being asked\n",
    "if rsp == \"expression\": # if the user's answer matches the correct one, then...\n",
    "    print(rsp + \" is correct!\")\n",
    "    correct += 1 # add 1 point\n",
    "else: # if not...\n",
    "    print(rsp + \" is incorrect :(\")\n",
    "\n",
    "rsp = question_with_response(\"What command is used to evaluate correct or incorrect response in this example?\") # define the question that is being asked\n",
    "if rsp == \"if\": # if the user's answer matches the correct one, then...\n",
    "    print(rsp + \" is correct!\")\n",
    "    correct += 1 # add 1 point\n",
    "else: # if not...\n",
    "    print(rsp + \" is incorrect :(\")\n",
    "\n",
    "rsp = question_with_response(\"What is grouping a sequence of commands, often used repeatedly, called?\") # define the question that is being asked\n",
    "if rsp == \"procedural abstraction\": # if the user's answer matches the correct one, then...\n",
    "    print(rsp + \" is correct!\")\n",
    "    correct += 1 # add 1 point\n",
    "else: # if not...\n",
    "    print(rsp + \" is incorrect :(\")\n",
    "\n",
    "percent = str(round(correct/questions, 1)*100) # calculate percentage by dividing # of correct answers by # of questions (round to the tenths place)\n",
    "\n",
    "print(getpass.getuser() + \", you scored \" + str(correct) +\"/\" + str(questions)) # show score (# of correct / # of questions)\n",
    "print(f\"Congratulations! That's a(n) {percent}%!\") # show percentage\n",
    "\n",
    "print(\"Hope you enjoyed!\")"
   ]
  }
 ],
 "metadata": {
  "kernelspec": {
   "display_name": "Python 3.9.12 ('base')",
   "language": "python",
   "name": "python3"
  },
  "language_info": {
   "codemirror_mode": {
    "name": "ipython",
    "version": 3
   },
   "file_extension": ".py",
   "mimetype": "text/x-python",
   "name": "python",
   "nbconvert_exporter": "python",
   "pygments_lexer": "ipython3",
   "version": "3.9.12"
  },
  "orig_nbformat": 4,
  "vscode": {
   "interpreter": {
    "hash": "ae7fc39f2ab8b5e6c06b0790456dedf53b90368befc1590efd56e212a30b3916"
   }
  }
 },
 "nbformat": 4,
 "nbformat_minor": 2
}
